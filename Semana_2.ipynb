{
  "nbformat": 4,
  "nbformat_minor": 0,
  "metadata": {
    "colab": {
      "provenance": [],
      "authorship_tag": "ABX9TyNS0PQljEw7Aud/vpp4WyEf",
      "include_colab_link": true
    },
    "kernelspec": {
      "name": "python3",
      "display_name": "Python 3"
    },
    "language_info": {
      "name": "python"
    }
  },
  "cells": [
    {
      "cell_type": "markdown",
      "metadata": {
        "id": "view-in-github",
        "colab_type": "text"
      },
      "source": [
        "<a href=\"https://colab.research.google.com/github/gnrochabr/ALGESTDADOS_20251/blob/main/Semana_2.ipynb\" target=\"_parent\"><img src=\"https://colab.research.google.com/assets/colab-badge.svg\" alt=\"Open In Colab\"/></a>"
      ]
    },
    {
      "cell_type": "code",
      "source": [
        "#MANIPULAÇÃO DE TEMPO E DATAS USANDO O PYTHON\n",
        "\n",
        "# --- Funções utilizadas da biblioteca datetime ---\n",
        "# datetime.now(): Obtém a data e hora atual do sistema.\n",
        "# datetime.strptime(): Converte uma string em um objeto datetime com um formato específico.\n",
        "# datetime.strftime(): Formata um objeto datetime para uma string personalizada.\n",
        "# datetime.year, month, day, hour, minute, second: Extraem partes específicas de uma data/hora.\n",
        "# timedelta(days=, hours=, minutes=): Permite realizar operações de adição/subtração com datas e horários.\n",
        "# date.today(): Obtém a data atual sem a informação de horário.\n",
        "# time(hour, minute, second): Representa um horário específico sem a informação de data.\n",
        "\n",
        "# --- Funções utilizadas da biblioteca pytz ---\n",
        "# pytz.timezone(): Permite definir um fuso horário específico.\n",
        "# datetime.now(pytz.timezone()): Obtém a data e hora atual ajustada para um fuso horário específico.\n",
        "\n",
        "\n",
        "from datetime import datetime, date, time, timedelta  # Importa classes para manipulação de datas e horários\n",
        "import pytz  # Biblioteca para trabalhar com fusos horários\n",
        "\n",
        "# --- 1. OBTENDO A DATA E HORA ATUAL ---\n",
        "# O objeto datetime.now() retorna a data e hora atual do sistema.\n",
        "# Isso é útil para registrar eventos, logs e cálculos de tempo.\n",
        "fuso_horario = pytz.timezone(\"America/Sao_Paulo\")\n",
        "data_hora_atual = datetime.now()\n",
        "print(\"Data e Hora Atual:\", data_hora_atual)\n",
        "\n",
        "# --- 2. FORMATANDO DATAS E HORÁRIOS ---\n",
        "# Podemos formatar a data e a hora para exibição mais amigável usando strftime().\n",
        "# %Y - Ano com quatro dígitos\n",
        "# %m - Mês (01 a 12)\n",
        "# %d - Dia do mês (01 a 31)\n",
        "# %H - Hora (00 a 23)\n",
        "# %M - Minuto (00 a 59)\n",
        "# %S - Segundo (00 a 59)\n",
        "print(\"Formato padrão:\", data_hora_atual.strftime(\"%Y-%m-%d %H:%M:%S\"))  # Exemplo: 2025-03-07 14:30:00\n",
        "print(\"Data por extenso:\", data_hora_atual.strftime(\"%d de %B de %Y\"))  # Exemplo: 07 de Março de 2025\n",
        "print(\"Hora formatada:\", data_hora_atual.strftime(\"%H:%M:%S\"))  # Exemplo: 14:30:00\n",
        "\n",
        "# --- 3. CRIANDO DATAS ESPECÍFICAS ---\n",
        "# Podemos criar um objeto datetime especificando ano, mês, dia, hora, minuto e segundo.\n",
        "data_especifica = datetime(2025, 3, 7, 14, 30, 0)\n",
        "print(\"Data específica:\", data_especifica.strftime(\"%d/%m/%Y %H:%M:%S\"))\n",
        "\n",
        "# --- 4. EXTRAINDO PARTES DE UMA DATA ---\n",
        "# Podemos acessar partes individuais da data, como ano, mês e dia.\n",
        "print(\"Ano:\", data_hora_atual.year)  # Exibe o ano atual\n",
        "print(\"Mês:\", data_hora_atual.month)  # Exibe o mês atual\n",
        "print(\"Dia:\", data_hora_atual.day)  # Exibe o dia atual\n",
        "print(\"Hora:\", data_hora_atual.hour)  # Exibe a hora atual\n",
        "print(\"Minuto:\", data_hora_atual.minute)  # Exibe o minuto atual\n",
        "print(\"Segundo:\", data_hora_atual.second)  # Exibe o segundo atual\n",
        "\n",
        "# --- 5. CÁLCULOS COM DATAS ---\n",
        "# Podemos usar timedelta para realizar operações de soma e subtração com datas.\n",
        "# timedelta(days=1) representa um intervalo de 1 dia.\n",
        "um_dia = timedelta(days=1)\n",
        "print(\"Ontem:\", (data_hora_atual - um_dia).strftime(\"%d/%m/%Y\"))  # Subtrai um dia da data atual\n",
        "print(\"Amanhã:\", (data_hora_atual + um_dia).strftime(\"%d/%m/%Y\"))  # Adiciona um dia à data atual\n",
        "\n",
        "# Também podemos calcular a diferença entre duas datas.\n",
        "data1 = datetime(2025, 1, 1)\n",
        "data2 = datetime(2025, 3, 7)\n",
        "diferenca = data2 - data1\n",
        "print(\"Dias entre as datas:\", diferenca.days)  # Exibe o número de dias entre duas datas\n",
        "\n",
        "# --- 6. TRABALHANDO COM APENAS DATAS OU HORÁRIOS ---\n",
        "# Criando um objeto apenas de data sem horário associado.\n",
        "hoje = date.today()\n",
        "print(\"Data de hoje:\", hoje.strftime(\"%d/%m/%Y\"))  # Exibe a data atual\n",
        "\n",
        "# Criando um objeto apenas de horário sem uma data associada.\n",
        "horario = time(14, 30, 0)\n",
        "print(\"Horário específico:\", horario.strftime(\"%H:%M:%S\"))  # Exibe um horário específico\n",
        "\n",
        "# --- 7. CONVERTENDO STRINGS EM DATETIME ---\n",
        "# Podemos converter uma string para um objeto datetime usando strptime().\n",
        "# %d/%m/%Y representa o formato Dia/Mês/Ano\n",
        "string_data = \"07/03/2025 14:30:00\"\n",
        "data_convertida = datetime.strptime(string_data, \"%d/%m/%Y %H:%M:%S\")\n",
        "print(\"Data convertida:\", data_convertida)\n",
        "\n",
        "# --- 8. OBTENDO O DIA DA SEMANA ---\n",
        "# O método weekday() retorna um número correspondente ao dia da semana.\n",
        "# 0 = Segunda-feira, 6 = Domingo\n",
        "dia_semana = data_hora_atual.weekday()\n",
        "dias = [\"Segunda-feira\", \"Terça-feira\", \"Quarta-feira\", \"Quinta-feira\", \"Sexta-feira\", \"Sábado\", \"Domingo\"]\n",
        "print(\"Hoje é:\", dias[dia_semana])\n",
        "\n",
        "# --- 9. USANDO FUSOS HORÁRIOS ---\n",
        "# O datetime padrão do Python não inclui informações de fuso horário.\n",
        "# Para trabalhar com fusos horários, utilizamos a biblioteca pytz.\n",
        "# Instale com: pip install pytz\n",
        "import pytz\n",
        "\n",
        "# Criando um objeto datetime com um fuso horário específico.\n",
        "fuso_horario = pytz.timezone(\"America/Sao_Paulo\")  # Define o fuso horário do Brasil\n",
        "\n",
        "data_com_fuso = datetime.now(fuso_horario)\n",
        "print(\"Data e hora com fuso horário de São Paulo:\", data_com_fuso.strftime(\"%d/%m/%Y %H:%M:%S %Z\"))\n"
      ],
      "metadata": {
        "id": "gugExS6RXNNO",
        "colab": {
          "base_uri": "https://localhost:8080/"
        },
        "outputId": "5ad2d97e-81c4-4dfa-df18-ac7e14aa2e25"
      },
      "execution_count": 34,
      "outputs": [
        {
          "output_type": "stream",
          "name": "stdout",
          "text": [
            "Data e Hora Atual: 2025-03-07 19:38:02.241811\n",
            "Formato padrão: 2025-03-07 19:38:02\n",
            "Data por extenso: 07 de March de 2025\n",
            "Hora formatada: 19:38:02\n",
            "Data específica: 07/03/2025 14:30:00\n",
            "Ano: 2025\n",
            "Mês: 3\n",
            "Dia: 7\n",
            "Hora: 19\n",
            "Minuto: 38\n",
            "Segundo: 2\n",
            "Ontem: 06/03/2025\n",
            "Amanhã: 08/03/2025\n",
            "Dias entre as datas: 65\n",
            "Data de hoje: 07/03/2025\n",
            "Horário específico: 14:30:00\n",
            "Data convertida: 2025-03-07 14:30:00\n",
            "Hoje é: Sexta-feira\n",
            "Data e hora com fuso horário de São Paulo: 07/03/2025 16:38:02 -03\n"
          ]
        }
      ]
    },
    {
      "cell_type": "code",
      "source": [
        "from datetime import datetime, date, time, timedelta  # Importa classes para manipulação de datas e horários\n",
        "import pytz  # Biblioteca para trabalhar com fusos horários\n",
        "\n",
        "fuso_horario = pytz.timezone(\"America/Sao_Paulo\")\n",
        "data_hora_atual = datetime.now(fuso_horario)\n",
        "print(\"Data e Hora Atual:\", data_hora_atual.strftime('%d/%m/%Y e são %H:%M'))"
      ],
      "metadata": {
        "colab": {
          "base_uri": "https://localhost:8080/"
        },
        "id": "oEgaw59c0Huu",
        "outputId": "4b875ae5-421e-465c-df26-287efa9d0d03"
      },
      "execution_count": 35,
      "outputs": [
        {
          "output_type": "stream",
          "name": "stdout",
          "text": [
            "Data e Hora Atual: 07/03/2025 e são 16:38\n"
          ]
        }
      ]
    },
    {
      "cell_type": "code",
      "execution_count": 37,
      "metadata": {
        "colab": {
          "base_uri": "https://localhost:8080/"
        },
        "id": "cmRvuwhJQe4D",
        "outputId": "2706602e-bb4b-4e5b-f597-7e4cecf7b843"
      },
      "outputs": [
        {
          "output_type": "stream",
          "name": "stdout",
          "text": [
            "Digite o seu lindo nome: Gustavo\n",
            "Digite o nome da sua linda cidade: Piúma\n",
            "Quando você nasceu? (DD/MM/YYYY): 05/05/1989\n",
            "Seu nome é Gustavo, sua cidade é Piúma e sua idade é 35 anos\n"
          ]
        }
      ],
      "source": [
        "# Criar um programa que retorne o nome, a cidade e a idade de um usuário através da sua data de nascimento.\n",
        "\n",
        "#importando a biblioteca datetime\n",
        "from datetime import datetime\n",
        "\n",
        "#Atribui um valor textual a variável nome\n",
        "nome = input('Digite o seu lindo nome: ')\n",
        "\n",
        "#Atribui um valor textual a variável nome\n",
        "cidade = input('Digite o nome da sua linda cidade: ')\n",
        "\n",
        "#Data de nascimento em formato de texto\n",
        "data_nasc = input('Quando você nasceu? (DD/MM/YYYY): ')\n",
        "\n",
        "#Convertendo a data_nasc para o formato de data\n",
        "data_conv = datetime.strptime(data_nasc, '%d/%m/%Y')\n",
        "\n",
        "#Pegando do sistema a data de hoje\n",
        "hoje = datetime.now()\n",
        "\n",
        "#Idade = Data de hoje - Data de Nascimento, em dias, dividido por 365 dias do ano\n",
        "idade = (hoje - data_conv).days // 365\n",
        "\n",
        "print(f'Seu nome é {nome}, sua cidade é {cidade} e sua idade é {idade} anos')"
      ]
    },
    {
      "cell_type": "markdown",
      "source": [
        "**Exercícios de fixação**\n",
        "\n",
        "**Crie algoritmos usando Python para:**\n",
        "\n",
        "1.   Solicite a data e hora atual do sistema e exiba-a formatada no seguinte formato: \"dia de mês de ano, HH:MM:SS\".\n",
        "2.   Pedir ao usuário sua data de nascimento (no formato dd/mm/aaaa) e calcular sua idade atual.\n",
        "3.  Peça ao usuário a data de um evento futuro e calcule quantos dias faltam para ele.\n",
        "4.  Peça ao usuário uma data e informe qual o dia da semana correspondente.\n",
        "5.  Exiba a data e hora atuais em três fusos horários diferentes: São Paulo, Nova York e Tóquio.\n",
        "\n"
      ],
      "metadata": {
        "id": "DJyjTgvPn2xa"
      }
    },
    {
      "cell_type": "code",
      "source": [
        "# Exercício 1: Solicite a data e hora atual do sistema e exiba-a formatada no seguinte formato: \"dia de mês de ano, HH:MM:SS\".\n",
        "nv = pytz.timezone('America/Sao_Paulo')\n",
        "agora = datetime.now(nv)\n",
        "print(f\"Hoje é: {agora.strftime('%d de %B de %Y, %H:%M:%S')}\")"
      ],
      "metadata": {
        "id": "fGDy3SwrYBTd",
        "colab": {
          "base_uri": "https://localhost:8080/"
        },
        "outputId": "4a941c8a-3893-482f-8a6a-3ede4173f86d"
      },
      "execution_count": 28,
      "outputs": [
        {
          "output_type": "stream",
          "name": "stdout",
          "text": [
            "Hoje é: 07 de March de 2025, 16:28:47\n"
          ]
        }
      ]
    },
    {
      "cell_type": "code",
      "source": [
        "# Exercício 2: Crie um algoritmo em Python que peça ao usuário sua data de nascimento (no formato dd/mm/aaaa) e calcule sua idade atual.\n",
        "nascimento = input(\"Digite sua data de nascimento (dd/mm/aaaa): \")\n",
        "nascimento = datetime.strptime(nascimento, \"%d/%m/%Y\")\n",
        "idade = datetime.now().year - nascimento.year\n",
        "print(f\"Você tem {idade} anos.\")"
      ],
      "metadata": {
        "id": "K_4Au-eRntt_",
        "colab": {
          "base_uri": "https://localhost:8080/"
        },
        "outputId": "9505dab1-21f1-474d-97fe-c0fbea5da4c6"
      },
      "execution_count": 38,
      "outputs": [
        {
          "output_type": "stream",
          "name": "stdout",
          "text": [
            "Digite sua data de nascimento (dd/mm/aaaa): 05/05/1989\n",
            "Você tem 36 anos.\n"
          ]
        }
      ]
    },
    {
      "cell_type": "code",
      "source": [
        "# Exercício 3: Peça ao usuário a data de um evento futuro e calcule quantos dias faltam para ele.\n",
        "data_evento = input(\"Digite a data do evento (dd/mm/aaaa): \")\n",
        "data_evento = datetime.strptime(data_evento, \"%d/%m/%Y\")\n",
        "dias_faltam = (data_evento - datetime.now()).days\n",
        "print(f\"Faltam {dias_faltam} dias para o evento.\")"
      ],
      "metadata": {
        "id": "-GayKlVJnt5E",
        "colab": {
          "base_uri": "https://localhost:8080/"
        },
        "outputId": "601b6dcc-621a-4a7b-b324-1e0faf0e589e"
      },
      "execution_count": 39,
      "outputs": [
        {
          "output_type": "stream",
          "name": "stdout",
          "text": [
            "Digite a data do evento (dd/mm/aaaa): 05/05/2025\n",
            "Faltam 58 dias para o evento.\n"
          ]
        }
      ]
    },
    {
      "cell_type": "code",
      "source": [
        "# Exercício 4: Peça ao usuário uma data e informe qual o dia da semana correspondente.\n",
        "dias = ['Segunda-feira', 'Terça-feira', 'Quarta-feira', 'Quinta-feira', 'Sexta-feira', 'Sábado', 'Domingo']\n",
        "data_usuario = input(\"Digite uma data (dd/mm/aaaa): \")\n",
        "data_usuario = datetime.strptime(data_usuario, \"%d/%m/%Y\")\n",
        "print(f\"O dia da semana é: {dias[data_usuario.weekday()]}\")"
      ],
      "metadata": {
        "id": "IGwpnKS9nuAn",
        "colab": {
          "base_uri": "https://localhost:8080/"
        },
        "outputId": "306386f1-3d18-409f-8d5f-7d03b7da5b2d"
      },
      "execution_count": 33,
      "outputs": [
        {
          "output_type": "stream",
          "name": "stdout",
          "text": [
            "Digite uma data (dd/mm/aaaa): 07/03/2025\n",
            "O dia da semana é: Sexta-feira\n"
          ]
        }
      ]
    },
    {
      "cell_type": "code",
      "source": [
        "# Exercício 5: Exiba a data e hora atuais em três fusos horários diferentes: São Paulo, Nova York e Tóquio.\n",
        "tz_sp = pytz.timezone(\"America/Sao_Paulo\")\n",
        "tz_ny = pytz.timezone(\"America/New_York\")\n",
        "tz_tokyo = pytz.timezone(\"Asia/Tokyo\")\n",
        "\n",
        "agora_sp = datetime.now(tz_sp).strftime(\"%d/%m/%Y %H:%M:%S %Z\")\n",
        "agora_ny = datetime.now(tz_ny).strftime(\"%d/%m/%Y %H:%M:%S %Z\")\n",
        "agora_tokyo = datetime.now(tz_tokyo).strftime(\"%d/%m/%Y %H:%M:%S %Z\")\n",
        "\n",
        "print(\"São Paulo:\", agora_sp)\n",
        "print(\"Nova York:\", agora_ny)\n",
        "print(\"Tóquio:\", agora_tokyo)"
      ],
      "metadata": {
        "id": "jX3bhWH1nuHW",
        "colab": {
          "base_uri": "https://localhost:8080/"
        },
        "outputId": "3fd55303-7954-4dcc-e193-833f5297d285"
      },
      "execution_count": 40,
      "outputs": [
        {
          "output_type": "stream",
          "name": "stdout",
          "text": [
            "São Paulo: 07/03/2025 16:38:57 -03\n",
            "Nova York: 07/03/2025 14:38:57 EST\n",
            "Tóquio: 08/03/2025 04:38:57 JST\n"
          ]
        }
      ]
    }
  ]
}