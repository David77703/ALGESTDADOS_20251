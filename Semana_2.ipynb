{
  "nbformat": 4,
  "nbformat_minor": 0,
  "metadata": {
    "colab": {
      "provenance": [],
      "authorship_tag": "ABX9TyOz234IrCMhmqHpdZbW+iP0",
      "include_colab_link": true
    },
    "kernelspec": {
      "name": "python3",
      "display_name": "Python 3"
    },
    "language_info": {
      "name": "python"
    }
  },
  "cells": [
    {
      "cell_type": "markdown",
      "metadata": {
        "id": "view-in-github",
        "colab_type": "text"
      },
      "source": [
        "<a href=\"https://colab.research.google.com/github/gnrochabr/ALGESTDADOS_20251/blob/main/Semana_2.ipynb\" target=\"_parent\"><img src=\"https://colab.research.google.com/assets/colab-badge.svg\" alt=\"Open In Colab\"/></a>"
      ]
    },
    {
      "cell_type": "code",
      "execution_count": 15,
      "metadata": {
        "colab": {
          "base_uri": "https://localhost:8080/"
        },
        "id": "cmRvuwhJQe4D",
        "outputId": "f1342d0d-2902-4304-fba3-1fc575f295ed"
      },
      "outputs": [
        {
          "output_type": "stream",
          "name": "stdout",
          "text": [
            "Digite o seu lindo nome: Gustavo\n",
            "Digite o nome da sua linda cidade: Piúma\n",
            "Quando você nasceu? (DD/MM/YYYY)05/05/1989\n",
            "Seu nome é Gustavo, sua cidade é Piúma e sua idade é 35 anos\n"
          ]
        }
      ],
      "source": [
        "# Criar um programa que retorne o nome, a cidade e a idade de um usuário através da sua data de nascimento.\n",
        "\n",
        "#importando a biblioteca datetime\n",
        "from datetime import datetime\n",
        "\n",
        "#Atribui um valor textual a variável nome\n",
        "nome = input('Digite o seu lindo nome: ')\n",
        "\n",
        "#Atribui um valor textual a variável nome\n",
        "cidade = input('Digite o nome da sua linda cidade: ')\n",
        "\n",
        "#Data de nascimento em formato de texto\n",
        "data_nasc = input('Quando você nasceu? (DD/MM/YYYY): ')\n",
        "\n",
        "#Convertendo a data_nasc para o formato de data\n",
        "data_conv = datetime.strptime(data_nasc, '%d/%m/%Y')\n",
        "\n",
        "#Pegando do sistema a data de hoje\n",
        "hoje = datetime.now()\n",
        "\n",
        "#Idade = Data de hoje - Data de Nascimento, em dias, dividido por 365 dias do ano\n",
        "idade = (hoje - data_conv).days // 365\n",
        "\n",
        "print(f'Seu nome é {nome}, sua cidade é {cidade} e sua idade é {idade} anos')"
      ]
    }
  ]
}