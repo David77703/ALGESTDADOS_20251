{
  "nbformat": 4,
  "nbformat_minor": 0,
  "metadata": {
    "colab": {
      "provenance": [],
      "authorship_tag": "ABX9TyMGgoACHiIm4myAbpiXVFi2",
      "include_colab_link": true
    },
    "kernelspec": {
      "name": "python3",
      "display_name": "Python 3"
    },
    "language_info": {
      "name": "python"
    }
  },
  "cells": [
    {
      "cell_type": "markdown",
      "metadata": {
        "id": "view-in-github",
        "colab_type": "text"
      },
      "source": [
        "<a href=\"https://colab.research.google.com/github/gnrochabr/ALGESTDADOS_20251/blob/main/Semana5.ipynb\" target=\"_parent\"><img src=\"https://colab.research.google.com/assets/colab-badge.svg\" alt=\"Open In Colab\"/></a>"
      ]
    },
    {
      "cell_type": "code",
      "execution_count": null,
      "metadata": {
        "id": "5Ckn-9RObUbm"
      },
      "outputs": [],
      "source": [
        "# 1. Peça ao usuário três lados de um triângulo e classifique-o como equilátero, isósceles ou escaleno.\n",
        "ladoA = float(input('Digite o tamanho do lado A: '))\n",
        "ladoB = float(input('Digite o tamanho do lado A: '))\n",
        "ladoC = float(input('Digite o tamanho do lado A: '))\n",
        "if ladoA == ladoB == ladoC:\n",
        "  print('Equilátero')\n",
        "elif ladoA == ladoB or ladoA == ladoC or ladoB == ladoC:\n",
        "  print('Isósceles')\n",
        "else:\n",
        "  print('Escaleno')"
      ]
    },
    {
      "cell_type": "code",
      "source": [
        "# 2. Peça ao usuário um horário no formato 24h (por exemplo, 13:45) e converta para o formato 12h com AM/PM.\n",
        "from datetime import datetime\n",
        "horario = input('Digite a hora desejada (HH:MM): ')\n",
        "hora = int(datetime.strptime(horario,'%H:%M').hour)\n",
        "minuto = int(datetime.strptime(horario,'%H:%M').minute)\n",
        "\n",
        "#Se for de 13 às 23 horas\n",
        "if hora > 12:\n",
        "  hora = hora-12\n",
        "  print(f'{hora}:{minuto} PM')\n",
        "\n",
        "#se for meio dia\n",
        "elif hora == 12:\n",
        "  print(f'{horario} PM')\n",
        "\n",
        "#se for antes de meio dia\n",
        "else:\n",
        "  print(f'{horario} AM')\n"
      ],
      "metadata": {
        "id": "KaHV7Hd2crWm"
      },
      "execution_count": null,
      "outputs": []
    },
    {
      "cell_type": "code",
      "source": [
        "# 3. Solicite a idade de um nadador e classifique-o em uma categoria:\n",
        "# - Até 7 anos → Mirim\n",
        "# - 8 a 10 anos → Infantil\n",
        "# - 11 a 13 anos → Juvenil\n",
        "# - 14 a 17 anos → Júnior\n",
        "# - 18 anos ou mais → Sênior\n",
        "idade = int(input('Digite a sua idade:'))\n",
        "if idade<= 7:\n",
        "  print('Mirim')\n",
        "elif idade<=10:\n",
        "  print('Infantil')\n",
        "elif idade<=13:\n",
        "  print('Juvenil')\n",
        "elif idade<=17:\n",
        "  print('Júnior')\n",
        "else:\n",
        "  print('Sênior')\n"
      ],
      "metadata": {
        "id": "2MVhCUegmhpj"
      },
      "execution_count": null,
      "outputs": []
    },
    {
      "cell_type": "code",
      "source": [
        "# 4. Simule uma partida de Pedra, Papel e Tesoura entre o usuário e o computador (sem aleatoriedade, o jogador deve escolher as duas opções).\n",
        "player1 = input('Digite a sua jogada (PD - Pedra / PL - Papel / TS - Tesoura): ').lower()\n",
        "player2 = input('Digite a sua jogada (PD - Pedra / PL - Papel / TS - Tesoura): ').lower()\n",
        "jogadas = {'ts':'Tesoura','pl':'Papel','pd':'Pedra'}\n",
        "print(f'Jogador 1: {jogadas[player1]} x {jogadas[player2]} : Jogador 2')\n",
        "if player1 ==  player2:\n",
        "  print('Deuce')\n",
        "elif (player1 == 'pd' and player2 == 'ts') or (player1 == 'pl' and player2 == 'pd') or (player1 == 'ts' and player2 == 'pl'):\n",
        "  print('Player 1 venceu!')\n",
        "else:\n",
        "  print('Player 2 venceu!')\n"
      ],
      "metadata": {
        "colab": {
          "base_uri": "https://localhost:8080/"
        },
        "id": "1XSjn9yj730F",
        "outputId": "4e13a771-889b-465c-ab99-b114e4bd9b64"
      },
      "execution_count": null,
      "outputs": [
        {
          "output_type": "stream",
          "name": "stdout",
          "text": [
            "Digite a sua jogada (PD - Pedra / PL - Papel / TS - Tesoura): pd\n",
            "Digite a sua jogada (PD - Pedra / PL - Papel / TS - Tesoura): ts\n",
            "Jogador 1:Pedra x Tesoura: Jogador 2\n",
            "Player 1 venceu!\n"
          ]
        }
      ]
    },
    {
      "cell_type": "code",
      "source": [
        "# 5. Peça uma nota de 0 a 10 e classifique-a:\n",
        "# - A (9-10)\n",
        "# - B (7-8.9)\n",
        "# - C (5-6.9)\n",
        "# - D (3-4.9)\n",
        "# - F (0-2.9)\n",
        "\n",
        "nota = int(input('Digite a sua nota:'))\n",
        "if nota<3:\n",
        "  print('F')\n",
        "elif nota<5:\n",
        "  print('D')\n",
        "elif nota<7:\n",
        "  print('C')\n",
        "elif nota<9:\n",
        "  print('B')\n",
        "else:\n",
        "  print('A')"
      ],
      "metadata": {
        "id": "DQfETIyz77Iz"
      },
      "execution_count": null,
      "outputs": []
    },
    {
      "cell_type": "code",
      "source": [
        "# 6. Solicite o peso e altura do usuário e calcule o IMC. Classifique conforme a tabela:\n",
        "# - Abaixo do peso: < 18.5\n",
        "# - Normal: 18.5 - 24.9\n",
        "# - Sobrepeso: 25 - 29.9\n",
        "# - Obesidade: >= 30\n",
        "import math\n",
        "peso = float(input('Digite seu peso(kg): '))\n",
        "altura = float(input('Digite sua altura(cm): '))\n",
        "imc = peso / pow(altura/100,2)\n",
        "if imc<18.5:\n",
        "  print(f'Seu IMC é de {imc:.2f} e é considerado pela OMS, você se encontra abaixo do peso')\n",
        "elif imc<25:\n",
        "  print(f'Seu IMC é de {imc:.2f} e é considerado pela OMS, seu peso está normal')\n",
        "elif imc<30:\n",
        "  print(f'Seu IMC é de {imc:.2f} e é considerado pela OMS, você está com sobrepeso')\n",
        "else:\n",
        "  print(f'Seu IMC é de {imc:.2f} e é considerado pela OMS, já é considerado como obesidade')\n"
      ],
      "metadata": {
        "colab": {
          "base_uri": "https://localhost:8080/"
        },
        "id": "1YGGUY4o8A15",
        "outputId": "02e82ef4-9ae6-453b-bfc0-f444faf184d9"
      },
      "execution_count": null,
      "outputs": [
        {
          "output_type": "stream",
          "name": "stdout",
          "text": [
            "Digite seu peso(kg):55\n",
            "Digite sua altura:(cm)160\n",
            "Seu IMC é de 21.48 e é considerado pela OMS, seu peso está normal\n"
          ]
        }
      ]
    },
    {
      "cell_type": "code",
      "source": [
        "# 7. Peça uma letra ao usuário e diga se é vogal ou consoante.\n",
        "letra = input('Digite uma letra')\n",
        "if letra in 'aeiou':\n",
        "  print('Vogal')\n",
        "else:\n",
        "  print('Consoante')"
      ],
      "metadata": {
        "id": "YpqPETcJ8E45"
      },
      "execution_count": null,
      "outputs": []
    },
    {
      "cell_type": "code",
      "source": [
        "# 8. Solicite o valor da compra e aplique descontos:\n",
        "# - Até R$ 100,00 → sem desconto\n",
        "# - De R$ 100,01 a R$ 500,00 → 10% de desconto\n",
        "# - Acima de R$ 500,00 → 20% de desconto\n",
        "valor = float(input('Valor da compra: R$'))\n",
        "if valor <= 100:\n",
        "  print(f'Compra: R$ {valor:.2f}')\n",
        "elif valor <= 500:\n",
        "  print(f'Compra: R$ {valor*0.9:.2f}')\n",
        "else:\n",
        "  print(f'Compra: R$ {valor*0.8:.2f}')\n",
        "\n"
      ],
      "metadata": {
        "colab": {
          "base_uri": "https://localhost:8080/"
        },
        "id": "ONqoNGl68IAx",
        "outputId": "f05de68d-eb2b-47ce-fc80-770a2b8bf471"
      },
      "execution_count": null,
      "outputs": [
        {
          "output_type": "stream",
          "name": "stdout",
          "text": [
            "Valor da compra: R$500.01\n",
            "Compra: R$ 400.01\n"
          ]
        }
      ]
    },
    {
      "cell_type": "code",
      "source": [
        "# 9. Crie um programa que calcula o preço do estacionamento:\n",
        "# - Até 2h → R$ 5,00 por hora\n",
        "# - De 2h a 5h → R$ 4,00 por hora\n",
        "# - Mais de 5h → R$ 3,00 por hora\n",
        "from datetime import datetime\n",
        "horario = input('Digite a quantidade horas(hh:mm): ')\n",
        "horas = int(datetime.strptime(horario,'%H:%M').hour)\n",
        "minutos = int(datetime.strptime(horario,'%H:%M').minute)\n",
        "\n",
        "#Calcula as horas, com tolerância de 15 minutos\n",
        "if minutos > 15:\n",
        "  horas+=1\n",
        "\n",
        "#Calcula o valor\n",
        "if horas <= 2:\n",
        "  print(f'Valor a pagar:R$ {horas*5:.2f}')\n",
        "elif horas <= 5:\n",
        "  print(f'Valor a pagar:R$ {horas*4:.2f}')\n",
        "else:\n",
        "  print(f'Valor a pagar:R$ {horas*3:.2f}')\n",
        "\n"
      ],
      "metadata": {
        "colab": {
          "base_uri": "https://localhost:8080/"
        },
        "id": "u8DiRL6q8N8G",
        "outputId": "77721dbc-d148-4822-aedf-3d266033bc90"
      },
      "execution_count": null,
      "outputs": [
        {
          "output_type": "stream",
          "name": "stdout",
          "text": [
            "Digite a quantidade horas(hh:mm): 03:40\n",
            "Valor a pagar:R$16.00\n"
          ]
        }
      ]
    },
    {
      "cell_type": "code",
      "source": [
        "# 10. Peça ao usuário um número e classifique-o:\n",
        "# - Positivo e par\n",
        "# - Positivo e ímpar\n",
        "# - Negativo e par\n",
        "# - Negativo e ímpar\n",
        "# - Zero\n",
        "\n",
        "numero = int(input('Digite um número a ser classificado: ')) #Leitura de um número\n",
        "\n",
        "if numero > 0: #classifico como positivo\n",
        "  if numero%2 == 0: #classifico como positivo e par\n",
        "    print(f'O {numero} é positivo e par')\n",
        "  else:#classifico como positivo e ímpar\n",
        "    print(f'O {numero} é positivo e ímpar')\n",
        "\n",
        "elif numero == 0: #classifico como zero\n",
        "    print(f'O {numero} é zero')\n",
        "\n",
        "else: #classifico como negativo\n",
        "  if numero%2 == 0: #classifico como negativo e par\n",
        "    print(f'O {numero} é negativo e par')\n",
        "  else:#classifico como negativo e ímpar\n",
        "    print(f'O {numero} é negativo e ímpar')\n"
      ],
      "metadata": {
        "id": "WuzT5-4M8Ro_",
        "colab": {
          "base_uri": "https://localhost:8080/"
        },
        "outputId": "617d2c38-57fc-4e83-a09d-be0c76cc9951"
      },
      "execution_count": 3,
      "outputs": [
        {
          "output_type": "stream",
          "name": "stdout",
          "text": [
            "Digite um número a ser classificado: 0\n",
            "O 0 é zero\n"
          ]
        }
      ]
    },
    {
      "cell_type": "code",
      "source": [
        "# 11. Solicite o consumo de energia em kWh e calcule a tarifa:\n",
        "# - Até 100 kWh → R$ 0,50 por kWh\n",
        "# - De 101 a 300 kWh → R$ 0,75 por kWh\n",
        "# - Acima de 300 kWh → R$ 1,00 por kWh\n",
        "\n",
        "consumo = int(input('Digite seu consumo (KWh): ')) #leitura de dados (entrada)\n",
        "\n",
        "#se o consumo é ate 100KWh...\n",
        "if consumo <= 100:\n",
        "  tarifa = 0.5\n",
        "\n",
        "#se o consumo é entre 101 a 300 KWh...\n",
        "elif consumo <= 300:\n",
        "  tarifa = 0.75\n",
        "#se o consumo é acima de 300 KWh...\n",
        "else:\n",
        "  tarifa = 1\n",
        "#Saída\n",
        "valor_pagar = consumo * tarifa #calcula o valor a pagar\n",
        "print(f'Com o consumo de {consumo}KWh, a tarifa é de R${tarifa:.2f}/KWh e o total a pagar será R${valor_pagar:.2f}')\n",
        "\n"
      ],
      "metadata": {
        "id": "Bhx4kdlo8WwO",
        "colab": {
          "base_uri": "https://localhost:8080/"
        },
        "outputId": "2e1254cc-11e0-4037-d84d-dc4765f203fa"
      },
      "execution_count": 10,
      "outputs": [
        {
          "output_type": "stream",
          "name": "stdout",
          "text": [
            "Digite seu consumo (KWh): 156\n",
            "Com o consumo de 156KWh, a tarifa é de R$0.75/KWh e o total a pagar será R$117.00\n"
          ]
        }
      ]
    },
    {
      "cell_type": "code",
      "source": [
        "# 12. Peça a temperatura em °C e classifique:\n",
        "# - Muito frio (< 10°C)\n",
        "# - Frio (10°C a 20°C)\n",
        "# - Agradável (21°C a 30°C)\n",
        "# - Quente (31°C a 40°C)\n",
        "# - Muito quente (> 40°C)"
      ],
      "metadata": {
        "id": "-WF6oKQK8ZEH"
      },
      "execution_count": null,
      "outputs": []
    },
    {
      "cell_type": "code",
      "source": [
        "# 13. Solicite um CPF ao usuário (somente números). Verifique se tem exatamente 11 dígitos e exiba \"CPF válido\" ou \"CPF inválido\"."
      ],
      "metadata": {
        "id": "ez8sl0SW8cJc"
      },
      "execution_count": null,
      "outputs": []
    },
    {
      "cell_type": "code",
      "source": [
        "# 14. Peça a velocidade de um carro e classifique:\n",
        "# - Até 40 km/h → Muito lento\n",
        "# - 41 a 60 km/h → Velocidade moderada\n",
        "# - 61 a 80 km/h → Rápido\n",
        "# - Acima de 80 km/h → Muito rápido"
      ],
      "metadata": {
        "id": "av-SnEiT8eKk"
      },
      "execution_count": null,
      "outputs": []
    },
    {
      "cell_type": "code",
      "source": [
        "# 15. Solicite uma placa de veículo e verifique se ela segue o formato ABC1D23 (três letras, um número, uma letra e dois números). Caso contrário, exiba \"Placa inválida\"."
      ],
      "metadata": {
        "id": "2NAA9Ove8i_0"
      },
      "execution_count": null,
      "outputs": []
    }
  ]
}