{
  "nbformat": 4,
  "nbformat_minor": 0,
  "metadata": {
    "colab": {
      "provenance": [],
      "authorship_tag": "ABX9TyNUZ05fheg3I8lEoBSA4agn",
      "include_colab_link": true
    },
    "kernelspec": {
      "name": "python3",
      "display_name": "Python 3"
    },
    "language_info": {
      "name": "python"
    }
  },
  "cells": [
    {
      "cell_type": "markdown",
      "metadata": {
        "id": "view-in-github",
        "colab_type": "text"
      },
      "source": [
        "<a href=\"https://colab.research.google.com/github/David77703/ALGESTDADOS_20251/blob/main/Lista_de_Exerc%C3%ADcios_III_15_pontos_Entrega_08_06.ipynb\" target=\"_parent\"><img src=\"https://colab.research.google.com/assets/colab-badge.svg\" alt=\"Open In Colab\"/></a>"
      ]
    },
    {
      "cell_type": "markdown",
      "source": [
        "David Casimiro Candido"
      ],
      "metadata": {
        "id": "9s5ZCQeBxqZa"
      }
    },
    {
      "cell_type": "code",
      "execution_count": null,
      "metadata": {
        "id": "NlKIHLfbxibG"
      },
      "outputs": [],
      "source": [
        "#1 - Crie uma lista com 15 números inteiros digitados pelo usuário. Em seguida, remova todos os números repetidos, mantendo a ordem original.\n",
        "\n",
        "lista_original = []\n",
        "for i in range(15):\n",
        "  numero = int(input(f\"Digite o {i+1}º número inteiro: \"))\n",
        "  lista_original.append(numero)\n",
        "\n",
        "lista_sem_repetidos = []\n",
        "for numero in lista_original:\n",
        "  if numero not in lista_sem_repetidos:\n",
        "    lista_sem_repetidos.append(numero)\n",
        "\n",
        "print(\"Lista original:\", lista_original)\n",
        "print(\"Lista sem números repetidos (mantendo a ordem original):\", lista_sem_repetidos)"
      ]
    },
    {
      "cell_type": "code",
      "source": [
        "#2 - Escreva um programa que leia 10 nomes e 10 idades. Armazene os nomes em uma lista e as idades em outra. Em seguida, exiba o nome da pessoa mais velha.\n",
        "\n",
        "nomes = []\n",
        "idades = []\n",
        "\n",
        "for i in range(10):\n",
        "  nome = input(f\"Digite o {i+1}º nome: \")\n",
        "  nomes.append(nome)\n",
        "  idade = int(input(f\"Digite a idade de {nome}: \"))\n",
        "  idades.append(idade)\n",
        "\n",
        "indice_mais_velho = idades.index(max(idades))\n",
        "nome_mais_velho = nomes[indice_mais_velho]\n",
        "\n",
        "print(f\"A pessoa mais velha é: {nome_mais_velho}\")\n"
      ],
      "metadata": {
        "id": "LwdGIwjrzTF6"
      },
      "execution_count": null,
      "outputs": []
    },
    {
      "cell_type": "code",
      "source": [
        "#3 - Faça um programa que leia uma lista de 10 números e divida todos os valores ímpares por 3 e os pares por 2, substituindo os valores originais.\n",
        "\n",
        "lista_numeros = []\n",
        "for i in range(10):\n",
        "  numero = int(input(f\"Digite o {i+1}º número: \"))\n",
        "  lista_numeros.append(numero)\n",
        "\n",
        "for i in range(len(lista_numeros)):\n",
        "  if lista_numeros[i] % 2 == 0:\n",
        "    lista_numeros[i] //= 2\n",
        "  else:\n",
        "    lista_numeros[i] //= 3\n",
        "\n",
        "print(\"Lista com valores modificados:\", lista_numeros)"
      ],
      "metadata": {
        "id": "9UMO5CW_0-Yp"
      },
      "execution_count": null,
      "outputs": []
    },
    {
      "cell_type": "code",
      "source": [
        "#4 - Solicite ao usuário uma frase. Armazene em uma lista cada palavra que começa com uma vogal. Exiba a lista resultante.\n",
        "\n",
        "frase = input(\"Digite uma frase: \")\n",
        "palavras = frase.split()\n",
        "palavras_com_vogal = []\n",
        "\n",
        "vogais = \"aeiouAEIOU\"\n",
        "\n",
        "for palavra in palavras:\n",
        "  if palavra and palavra[0] in vogais:\n",
        "    palavras_com_vogal.append(palavra)\n",
        "\n",
        "print(\"Palavras que começam com vogal:\", palavras_com_vogal)"
      ],
      "metadata": {
        "id": "ajM2nW-L2EsO"
      },
      "execution_count": null,
      "outputs": []
    },
    {
      "cell_type": "code",
      "source": [
        "#5 - Leia 10 números inteiros e armazene-os em uma lista. Em seguida, crie uma segunda lista apenas com os números primos da primeira.\n",
        "\n",
        "def is_primo(numero):\n",
        "  if numero <= 1:\n",
        "    return False\n",
        "  for i in range(2, int(numero**0.5) + 1):\n",
        "    if numero % i == 0:\n",
        "      return False\n",
        "  return True\n",
        "\n",
        "lista_original = []\n",
        "for i in range(10):\n",
        "  numero = int(input(f\"Digite o {i+1}º número inteiro: \"))\n",
        "  lista_original.append(numero)\n",
        "\n",
        "lista_primos = []\n",
        "for numero in lista_original:\n",
        "  if is_primo(numero):\n",
        "    lista_primos.append(numero)\n",
        "\n",
        "print(\"Lista original:\", lista_original)\n",
        "print(\"Lista com números primos:\", lista_primos)"
      ],
      "metadata": {
        "id": "7SjDTxyd2y7m"
      },
      "execution_count": null,
      "outputs": []
    },
    {
      "cell_type": "code",
      "source": [
        "#6 - Escreva um programa que leia uma lista de 8 elementos e verifique se ela é palíndroma (lê-se igual de trás para frente).\n",
        "\n",
        "lista_elementos = []\n",
        "for i in range(8):\n",
        "  elemento = input(f\"Digite o {i+1}º elemento: \")\n",
        "  lista_elementos.append(elemento)\n",
        "\n",
        "if lista_elementos == lista_elementos[::-1]:\n",
        "  print(\"A lista é palíndroma.\")\n",
        "else:\n",
        "  print(\"A lista não é palíndroma.\")"
      ],
      "metadata": {
        "id": "jj3wKq8Q3afK"
      },
      "execution_count": null,
      "outputs": []
    },
    {
      "cell_type": "code",
      "source": [
        "#7 - Crie duas listas com 10 números inteiros aleatórios entre 1 e 100. Gere uma terceira lista contendo apenas os elementos que estão presentes em ambas (interseção).\n",
        "\n",
        "import random\n",
        "\n",
        "lista1 = [random.randint(1, 100) for _ in range(10)]\n",
        "lista2 = [random.randint(1, 100) for _ in range(10)]\n",
        "\n",
        "lista_intersecao = []\n",
        "for elemento in lista1:\n",
        "  if elemento in lista2 and elemento not in lista_intersecao:\n",
        "    lista_intersecao.append(elemento)\n",
        "\n",
        "print(\"Lista 1:\", lista1)\n",
        "print(\"Lista 2:\", lista2)\n",
        "print(\"Lista de interseção:\", lista_intersecao)"
      ],
      "metadata": {
        "id": "3h3DgMqj5hHO"
      },
      "execution_count": null,
      "outputs": []
    },
    {
      "cell_type": "code",
      "source": [
        "#8 - Faça um programa que simule o sorteio de 6 números da Mega-Sena (entre 1 e 60) sem repetição. Armazene em uma lista e exiba.\n",
        "\n",
        "import random\n",
        "\n",
        "mega_sena = sorted(random.sample(range(1, 60), 6))\n",
        "print(\"Números sorteados da Mega-Sena:\", mega_sena)"
      ],
      "metadata": {
        "id": "kVBCDzCu89Sb"
      },
      "execution_count": null,
      "outputs": []
    },
    {
      "cell_type": "code",
      "source": [
        "#9 - Solicite ao usuário uma lista de 10 números. Crie uma nova lista onde cada elemento é o somatório de todos os elementos anteriores da lista original.\n",
        "\n",
        "lista_original = []\n",
        "for i in range(10):\n",
        "  numero = int(input(f\"Digite o {i+1}º número: \"))\n",
        "  lista_original.append(numero)\n",
        "\n",
        "lista_somatorio = []\n",
        "somatorio_acumulado = 0\n",
        "for numero in lista_original:\n",
        "  somatorio_acumulado += numero\n",
        "  lista_somatorio.append(somatorio_acumulado)\n",
        "\n",
        "print(\"Lista original:\", lista_original)\n",
        "print(\"Nova lista com somatórios acumulados:\", lista_somatorio)"
      ],
      "metadata": {
        "id": "YdNm6KQhBFGz"
      },
      "execution_count": null,
      "outputs": []
    },
    {
      "cell_type": "code",
      "source": [
        "#10 - Implemente uma lista de nomes e remova todos que tenham mais de 10 caracteres.\n",
        "\n",
        "lista_nomes = [\"Ana Maria\", \"João da Silva\", \"Pedro\", \"Maria Clara\", \"Lucas Oliveira Santos\", \"Sofia\", \"Gabriel Costa\", \"Fernanda Lima\", \"Rafael Mendes\", \"Beatriz Almeida Souza\"]\n",
        "\n",
        "lista_nomes_filtrada = [nome for nome in lista_nomes if len(nome) <= 10]\n",
        "\n",
        "print(\"Lista original de nomes:\", lista_nomes)\n",
        "print(\"Lista de nomes com até 10 caracteres:\", lista_nomes_filtrada)\n"
      ],
      "metadata": {
        "id": "wFuJQEA9Bsei"
      },
      "execution_count": null,
      "outputs": []
    },
    {
      "cell_type": "code",
      "source": [
        "#11 - Crie uma matriz 4x4 com valores fornecidos pelo usuário. Exiba a soma dos elementos da diagonal secundária.\n",
        "\n",
        "matriz = []\n",
        "\n",
        "print(\"Digite os valores para a matriz 4x4:\")\n",
        "for i in range(4):\n",
        "    linha = []\n",
        "    for j in range(4):\n",
        "        valor = int(input(f\"Elemento [{i}][{j}]: \"))\n",
        "        linha.append(valor)\n",
        "    matriz.append(linha)\n",
        "\n",
        "soma_diagonal_secundaria = 0\n",
        "for i in range(4):\n",
        "    soma_diagonal_secundaria += matriz[i][3 - i]\n",
        "\n",
        "print(f\"Soma da diagonal secundária: {soma_diagonal_secundaria}\")"
      ],
      "metadata": {
        "id": "3GLPqe8_DvvV"
      },
      "execution_count": null,
      "outputs": []
    },
    {
      "cell_type": "code",
      "source": [
        "#12 - Gere uma matriz 5x5 com números aleatórios entre 1 e 99. Em seguida, calcule a média dos elementos de cada linha e armazene os resultados em uma nova lista.\n",
        "\n",
        "import numpy as np\n",
        "\n",
        "matriz_aleatoria = np.random.randint(1, 99, size=(5, 5))\n",
        "medias_linhas = matriz_aleatoria.mean(axis=1)\n",
        "\n",
        "print(\"Matriz 5x5:\")\n",
        "print(matriz_aleatoria)\n",
        "print(\"Médias dos elementos de cada linha:\")\n",
        "medias_linhas"
      ],
      "metadata": {
        "id": "6l2U4nXlyvae"
      },
      "execution_count": null,
      "outputs": []
    },
    {
      "cell_type": "code",
      "source": [
        "#13 - Solicite uma matriz 3x3 preenchida pelo usuário. Verifique se ela é uma matriz identidade.\n",
        "\n",
        "matriz = []\n",
        "\n",
        "print(\"Digite os valores para a matriz 3x3:\")\n",
        "for i in range(3):\n",
        "    linha = []\n",
        "    for j in range(3):\n",
        "        valor = int(input(f\"Elemento [{i}][{j}]: \"))\n",
        "        linha.append(valor)\n",
        "    matriz.append(linha)\n",
        "\n",
        "is_identidade = True\n",
        "for i in range(3):\n",
        "    for j in range(3):\n",
        "        if i == j and matriz[i][j] != 1:\n",
        "            is_identidade = False\n",
        "            break\n",
        "        elif i != j and matriz[i][j] != 0:\n",
        "            is_identidade = False\n",
        "            break\n",
        "    if not is_identidade:\n",
        "        break\n",
        "\n",
        "if is_identidade:\n",
        "    print(\"A matriz é uma matriz identidade.\")\n",
        "else:\n",
        "    print(\"A matriz não é uma matriz identidade.\")\n"
      ],
      "metadata": {
        "id": "RRElN1PhzyjR"
      },
      "execution_count": null,
      "outputs": []
    },
    {
      "cell_type": "code",
      "source": [
        "#14 - Faça um programa que leia uma matriz 3x3 e verifique se ela é simétrica (igual à sua transposta).\n",
        "\n",
        "matriz = []\n",
        "\n",
        "print(\"Digite os valores para a matriz 3x3:\")\n",
        "for i in range(3):\n",
        "    linha = []\n",
        "    for j in range(3):\n",
        "        valor = int(input(f\"Elemento [{i}][{j}]: \"))\n",
        "        linha.append(valor)\n",
        "    matriz.append(linha)\n",
        "\n",
        "is_simetrica = True\n",
        "for i in range(3):\n",
        "    for j in range(3):\n",
        "        if matriz[i][j] != matriz[j][i]:\n",
        "            is_simetrica = False\n",
        "            break\n",
        "    if not is_simetrica:\n",
        "        break\n",
        "\n",
        "if is_simetrica:\n",
        "    print(\"A matriz é simétrica.\")\n",
        "else:\n",
        "    print(\"A matriz não é simétrica.\")"
      ],
      "metadata": {
        "id": "mD_UKVs70YT4"
      },
      "execution_count": null,
      "outputs": []
    },
    {
      "cell_type": "code",
      "source": [
        "#15 - Crie uma matriz 5x3 onde cada elemento é igual ao produto de sua linha pelo valor da coluna. Exiba a matriz completa.\n",
        "linhas = 5\n",
        "colunas = 3\n",
        "\n",
        "matriz = []\n",
        "\n",
        "for i in range(linhas):\n",
        "    linha = []\n",
        "    for j in range(colunas):\n",
        "        valor = (i + 1) * (j + 1)\n",
        "        linha.append(valor)\n",
        "    matriz.append(linha)\n",
        "\n",
        "for linha in matriz:\n",
        "    print(linha)"
      ],
      "metadata": {
        "id": "NvOnwkep2R98"
      },
      "execution_count": null,
      "outputs": []
    },
    {
      "cell_type": "code",
      "source": [
        "#16 - Crie uma matriz 4x4 com números fornecidos pelo usuário. Encontre o menor valor de cada coluna e armazene em uma lista separada.\n",
        "\n",
        "matriz = []\n",
        "\n",
        "print(\"Digite os valores para a matriz 4x4:\")\n",
        "for i in range(4):\n",
        "  linha = []\n",
        "  for j in range(4):\n",
        "    valor = int(input(f\"Elemento [{i}][{j}]: \"))\n",
        "    linha.append(valor)\n",
        "  matriz.append(linha)\n",
        "\n",
        "menores_por_coluna = []\n",
        "for j in range(4):\n",
        "  menor_na_coluna = matriz[0][j]\n",
        "  for i in range(1, 4):\n",
        "    if matriz[i][j] < menor_na_coluna:\n",
        "      menor_na_coluna = matriz[i][j]\n",
        "  menores_por_coluna.append(menor_na_coluna)\n",
        "\n",
        "print(\"Matriz 4x4:\")\n",
        "for linha in matriz:\n",
        "  print(linha)\n",
        "\n",
        "print(\"Menores valores de cada coluna:\", menores_por_coluna)"
      ],
      "metadata": {
        "id": "BmFnE1t32xSv"
      },
      "execution_count": null,
      "outputs": []
    },
    {
      "cell_type": "code",
      "source": [
        "#17 - Dada uma matriz 3x3 com valores reais, calcule o determinante (sem usar bibliotecas externas).\n",
        "\n",
        "def determinante_3x3(matriz):\n",
        "    a, b, c = matriz[0]\n",
        "    d, e, f = matriz[1]\n",
        "    g, h, i = matriz[2]\n",
        "\n",
        "    determinante = (a * e * i + b * f * g + c * d * h\n",
        "                    - c * e * g - b * d * i - a * f * h)\n",
        "    return determinante\n",
        "\n",
        "matriz_exemplo = [\n",
        "    [1, 2, 3],\n",
        "    [4, 5, 6],\n",
        "    [7, 8, 9]\n",
        "]\n",
        "\n",
        "determinante = determinante_3x3(matriz_exemplo)\n",
        "print(\"Matriz:\")\n",
        "for linha in matriz_exemplo:\n",
        "    print(linha)\n",
        "print(f\"O determinante da matriz é: {determinante}\")"
      ],
      "metadata": {
        "id": "qtMCZ2dW4Adc"
      },
      "execution_count": null,
      "outputs": []
    },
    {
      "cell_type": "code",
      "source": [
        "#18 - Faça um programa que leia duas matrizes 3x3 e calcule a matriz soma e a matriz diferença.\n",
        "\n",
        "matriz1 = []\n",
        "matriz2 = []\n",
        "\n",
        "print(\"Digite os valores para a primeira matriz 3x3:\")\n",
        "for i in range(3):\n",
        "    linha = []\n",
        "    for j in range(3):\n",
        "        valor = int(input(f\"Primeira matriz - Elemento [{i}][{j}]: \"))\n",
        "        linha.append(valor)\n",
        "    matriz1.append(linha)\n",
        "\n",
        "print(\"Digite os valores para a segunda matriz 3x3:\")\n",
        "for i in range(3):\n",
        "    linha = []\n",
        "    for j in range(3):\n",
        "        valor = int(input(f\"Segunda matriz - Elemento [{i}][{j}]: \"))\n",
        "        linha.append(valor)\n",
        "    matriz2.append(linha)\n",
        "\n",
        "matriz_soma = []\n",
        "matriz_diferenca = []\n",
        "\n",
        "for i in range(3):\n",
        "    linha_soma = []\n",
        "    linha_diferenca = []\n",
        "    for j in range(3):\n",
        "        soma_elemento = matriz1[i][j] + matriz2[i][j]\n",
        "        diferenca_elemento = matriz1[i][j] - matriz2[i][j]\n",
        "        linha_soma.append(soma_elemento)\n",
        "        linha_diferenca.append(diferenca_elemento)\n",
        "    matriz_soma.append(linha_soma)\n",
        "    matriz_diferenca.append(linha_diferenca)\n",
        "\n",
        "print(\"Primeira Matriz:\")\n",
        "for linha in matriz1:\n",
        "    print(linha)\n",
        "\n",
        "print(\"Segunda Matriz:\")\n",
        "for linha in matriz2:\n",
        "    print(linha)\n",
        "\n",
        "print(\"Matriz Soma:\")\n",
        "for linha in matriz_soma:\n",
        "    print(linha)\n",
        "\n",
        "print(\"Matriz Diferença:\")\n",
        "for linha in matriz_diferenca:\n",
        "    print(linha)"
      ],
      "metadata": {
        "id": "QZMNzJG_4drK"
      },
      "execution_count": null,
      "outputs": []
    },
    {
      "cell_type": "code",
      "source": [
        "#19 - Solicite dois conjuntos de 10 elementos fornecidos pelo usuário. Mostre a interseção, união e diferença (A - B e B - A).\n",
        "\n",
        "conjunto1 = set()\n",
        "print(\"Digite 10 elementos para o primeiro conjunto:\")\n",
        "for i in range(10):\n",
        "    elemento = input(f\"Elemento {i+1}: \")\n",
        "    conjunto1.add(elemento)\n",
        "\n",
        "conjunto2 = set()\n",
        "print(\"Digite 10 elementos para o segundo conjunto:\")\n",
        "for i in range(10):\n",
        "    elemento = input(f\"Elemento {i+1}: \")\n",
        "    conjunto2.add(elemento)\n",
        "\n",
        "intersecao = conjunto1.intersection(conjunto2)\n",
        "uniao = conjunto1.union(conjunto2)\n",
        "diferenca_a_menos_b = conjunto1.difference(conjunto2)\n",
        "diferenca_b_menos_a = conjunto2.difference(conjunto1)\n",
        "\n",
        "print(f\"Conjunto 1: {conjunto1}\")\n",
        "print(f\"Conjunto 2: {conjunto2}\")\n",
        "print(f\"Interseção (Conjunto 1 , Conjunto 2): {intersecao}\")\n",
        "print(f\"União (Conjunto 1 , Conjunto 2): {uniao}\")\n",
        "print(f\"Diferença (Conjunto 1 - Conjunto 2): {diferenca_a_menos_b}\")\n",
        "print(f\"Diferença (Conjunto 2 - Conjunto 1): {diferenca_b_menos_a}\")"
      ],
      "metadata": {
        "id": "n9PYNMdO5Xrl"
      },
      "execution_count": null,
      "outputs": []
    },
    {
      "cell_type": "code",
      "source": [
        "#20 - Crie um conjunto com todas as letras usadas em uma frase digitada pelo usuário, excluindo espaços e pontuação.\n",
        "\n",
        "frase = input(\"Digite uma frase: \")\n",
        "letras_usadas = set()\n",
        "\n",
        "for caractere in frase:\n",
        "  if 'a' <= caractere.lower() <= 'z':\n",
        "    letras_usadas.add(caractere.lower())\n",
        "\n",
        "print(\"Conjunto de letras usadas (excluindo espaços e pontuação):\", letras_usadas)"
      ],
      "metadata": {
        "id": "R3yXqpjA6STY"
      },
      "execution_count": null,
      "outputs": []
    },
    {
      "cell_type": "code",
      "source": [
        "#21 - Escreva um programa que armazene em um conjunto todos os números entre 1 e 100 que não são múltiplos de 2 nem de 3.\n",
        "\n",
        "conjunto_nao_multiplos = set()\n",
        "\n",
        "for numero in range(1, 101):\n",
        "  if numero % 2 != 0 and numero % 3 != 0:\n",
        "    conjunto_nao_multiplos.add(numero)\n",
        "\n",
        "print(\"Números entre 1 e 100 que não são múltiplos de 2 nem de 3:\", conjunto_nao_multiplos)"
      ],
      "metadata": {
        "id": "yUy6Ka3466I_"
      },
      "execution_count": null,
      "outputs": []
    },
    {
      "cell_type": "code",
      "source": [
        "#22 - Solicite ao usuário que digite 10 palavras. Armazene em um conjunto todas as palavras distintas com mais de 5 letras.\n",
        "\n",
        "palavras_distintas_longas = set()\n",
        "\n",
        "print(\"Digite 10 palavras:\")\n",
        "for i in range(10):\n",
        "  palavra = input(f\"Palavra {i+1}: \")\n",
        "  if len(palavra) > 5:\n",
        "    palavras_distintas_longas.add(palavra)\n",
        "\n",
        "print(\"Palavras distintas com mais de 5 letras:\", palavras_distintas_longas)"
      ],
      "metadata": {
        "id": "nx7Gngop7Iqv"
      },
      "execution_count": null,
      "outputs": []
    },
    {
      "cell_type": "code",
      "source": [
        "#23 - Leia dois conjuntos de inteiros. Verifique se um é subconjunto do outro.\n",
        "\n",
        "print(\"Digite os elementos do primeiro conjunto (separados por espaço):\")\n",
        "conjunto1_input = input()\n",
        "conjunto1 = set(map(int, conjunto1_input.split()))\n",
        "\n",
        "print(\"Digite os elementos do segundo conjunto (separados por espaço):\")\n",
        "conjunto2_input = input()\n",
        "conjunto2 = set(map(int, conjunto2_input.split()))\n",
        "\n",
        "if conjunto1.issubset(conjunto2):\n",
        "  print(\"O primeiro conjunto é subconjunto do segundo.\")\n",
        "elif conjunto2.issubset(conjunto1):\n",
        "  print(\"O segundo conjunto é subconjunto do primeiro.\")\n",
        "else:\n",
        "  print(\"Nenhum dos conjuntos é subconjunto do outro.\")\n"
      ],
      "metadata": {
        "id": "bUCq1TLaAnrP"
      },
      "execution_count": null,
      "outputs": []
    },
    {
      "cell_type": "code",
      "source": [
        "#24 - Dado um conjunto de números inteiros, crie um novo conjunto com apenas os quadrados perfeitos encontrados.\n",
        "\n",
        "def is_quadrado_perfeito(numero):\n",
        "  if numero < 0:\n",
        "    return False\n",
        "  raiz = int(numero**0.5)\n",
        "  return raiz * raiz == numero\n",
        "\n",
        "conjunto_original = {1, 4, 9, 16, 25, 2, 3, 5, 6, 7, 8, 10}\n",
        "\n",
        "conjunto_quadrados_perfeitos = set()\n",
        "for numero in conjunto_original:\n",
        "  if is_quadrado_perfeito(numero):\n",
        "    conjunto_quadrados_perfeitos.add(numero)\n",
        "\n",
        "print(\"Conjunto original:\", conjunto_original)\n",
        "print(\"Conjunto com apenas quadrados perfeitos:\", conjunto_quadrados_perfeitos)"
      ],
      "metadata": {
        "id": "oKXDMhTeBL5V"
      },
      "execution_count": null,
      "outputs": []
    },
    {
      "cell_type": "code",
      "source": [
        "#25 - Crie um dicionário que armazene o nome e o salário de 5 funcionários. Calcule o reajuste de 10% para salários inferiores a R$ 2.000 e atualize o dicionário.\n",
        "\n",
        "funcionarios = {}\n",
        "\n",
        "print(\"Digite o nome e o salário de 5 funcionários:\")\n",
        "for i in range(5):\n",
        "  nome = input(f\"Nome do funcionário {i+1}: \")\n",
        "  salario = float(input(f\"Salário de {nome}: \"))\n",
        "  funcionarios[nome] = salario\n",
        "\n",
        "print(\"Dicionário original:\")\n",
        "print(funcionarios)\n",
        "\n",
        "for nome, salario in funcionarios.items():\n",
        "  if salario < 2000:\n",
        "    reajuste = salario * 0.10\n",
        "    funcionarios[nome] = salario + reajuste\n",
        "\n",
        "print(\"Dicionário após reajuste:\")\n",
        "funcionarios\n"
      ],
      "metadata": {
        "id": "lqFivx9BBdEc"
      },
      "execution_count": null,
      "outputs": []
    },
    {
      "cell_type": "code",
      "source": [
        "#26 - Faça um programa que armazene em um dicionário o nome de 5 alunos e uma lista com suas 3 notas. Depois, exiba o nome e a média de cada aluno.\n",
        "\n",
        "alunos = {}\n",
        "\n",
        "print(\"Digite o nome e as 3 notas de 5 alunos:\")\n",
        "for i in range(5):\n",
        "  nome_aluno = input(f\"Nome do aluno {i+1}: \")\n",
        "  notas = []\n",
        "  for j in range(3):\n",
        "    nota = float(input(f\"Nota {j+1} de {nome_aluno}: \"))\n",
        "    notas.append(nota)\n",
        "  alunos[nome_aluno] = notas\n",
        "\n",
        "print(\"Médias dos alunos:\")\n",
        "for nome_aluno, notas in alunos.items():\n",
        "  media = sum(notas) / len(notas)\n",
        "  print(f\"Aluno: {nome_aluno}, Média: {media:.2f}\")\n"
      ],
      "metadata": {
        "id": "PahQl-eaCkLz"
      },
      "execution_count": null,
      "outputs": []
    },
    {
      "cell_type": "code",
      "source": [
        "#27 - Crie um dicionário que armazene palavras e seus sinônimos. Depois, permita que o usuário digite uma palavra e veja seus sinônimos (se existirem).\n",
        "\n",
        "sinonimos = {\n",
        "    \"feliz\": [\"alegre\", \"contente\", \"radiante\"],\n",
        "    \"triste\": [\"infeliz\", \"melancólico\", \"abatido\"],\n",
        "    \"grande\": [\"enorme\", \"gigante\", \"imensa\"],\n",
        "    \"pequeno\": [\"diminuto\", \"minúsculo\", \"ínfimo\"]\n",
        "}\n",
        "\n",
        "palavra_usuario = input(\"Digite uma palavra para ver seus sinônimos: \").lower()\n",
        "\n",
        "if palavra_usuario in sinonimos:\n",
        "  print(f\"Sinônimos para '{palavra_usuario}': {sinonimos[palavra_usuario]}\")\n",
        "else:\n",
        "  print(f\"Não foram encontrados sinônimos para '{palavra_usuario}' no dicionário.\")\n"
      ],
      "metadata": {
        "id": "bieJ8BczDY0Q"
      },
      "execution_count": null,
      "outputs": []
    },
    {
      "cell_type": "code",
      "source": [
        "#28 - Solicite ao usuário 10 palavras e armazene em um dicionário onde a chave é a primeira letra e o valor é uma lista de palavras que começam com essa letra.\n",
        "\n",
        "palavras_por_letra = {}\n",
        "\n",
        "print(\"Digite 10 palavras:\")\n",
        "for i in range(10):\n",
        "  palavra = input(f\"Palavra {i+1}: \")\n",
        "  if palavra:\n",
        "    primeira_letra = palavra[0].lower()\n",
        "    if primeira_letra in palavras_por_letra:\n",
        "      palavras_por_letra[primeira_letra].append(palavra)\n",
        "    else:\n",
        "      palavras_por_letra[primeira_letra] = [palavra]\n",
        "\n",
        "print(\"Dicionário de palavras por primeira letra:\")\n",
        "palavras_por_letra"
      ],
      "metadata": {
        "id": "pmm-9e2jGiBi"
      },
      "execution_count": null,
      "outputs": []
    },
    {
      "cell_type": "code",
      "source": [
        "#29 - Crie um dicionário onde as chaves são nomes de produtos e os valores são listas com preços praticados em três lojas diferentes. Encontre o produto com maior variação de preço.\n",
        "\n",
        "produtos = {\n",
        "    \"Televisão\": [1500.00, 1650.00, 1480.00],\n",
        "    \"Geladeira\": [2500.00, 2600.00, 2450.00],\n",
        "    \"Notebook\": [3000.00, 3100.00, 2950.00],\n",
        "    \"Smartphone\": [1200.00, 1350.00, 1180.00],\n",
        "    \"Microondas\": [400.00, 450.00, 380.00]\n",
        "}\n",
        "\n",
        "maior_variacao = 0\n",
        "produto_maior_variacao = \"\"\n",
        "\n",
        "for produto, precos in produtos.items():\n",
        "  variacao = max(precos) - min(precos)\n",
        "  if variacao > maior_variacao:\n",
        "    maior_variacao = variacao\n",
        "    produto_maior_variacao = produto\n",
        "\n",
        "print(\"Preços dos produtos:\", produtos)\n",
        "print(f\"O produto com maior variação de preço é '{produto_maior_variacao}' com uma variação de R$ {maior_variacao:.2f}\")\n"
      ],
      "metadata": {
        "id": "6dSJVn5wHKSR"
      },
      "execution_count": null,
      "outputs": []
    },
    {
      "cell_type": "code",
      "source": [
        "#30 - Implemente um programa que leia uma frase e armazene em um dicionário o número de ocorrências de cada palavra (ignorando letras maiúsculas/minúsculas).\n",
        "\n",
        "frase = input(\"Digite uma frase: \")\n",
        "palavras = frase.lower().split()\n",
        "ocorrencias = {}\n",
        "\n",
        "for palavra in palavras:\n",
        "\n",
        "  palavra = palavra.strip('.,!?;:\"\\'()')\n",
        "  if palavra:\n",
        "    ocorrencias[palavra] = ocorrencias.get(palavra, 0) + 1\n",
        "\n",
        "print(\"Ocorrência de cada palavra na frase:\")\n",
        "ocorrencias"
      ],
      "metadata": {
        "id": "M2hBkNGxHobF"
      },
      "execution_count": null,
      "outputs": []
    }
  ]
}