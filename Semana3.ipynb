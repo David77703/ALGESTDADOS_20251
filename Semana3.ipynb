{
  "nbformat": 4,
  "nbformat_minor": 0,
  "metadata": {
    "colab": {
      "provenance": [],
      "authorship_tag": "ABX9TyNw3lJFTdhHk67MeAdgwnVz",
      "include_colab_link": true
    },
    "kernelspec": {
      "name": "python3",
      "display_name": "Python 3"
    },
    "language_info": {
      "name": "python"
    }
  },
  "cells": [
    {
      "cell_type": "markdown",
      "metadata": {
        "id": "view-in-github",
        "colab_type": "text"
      },
      "source": [
        "<a href=\"https://colab.research.google.com/github/gnrochabr/ALGESTDADOS_20251/blob/main/Semana3.ipynb\" target=\"_parent\"><img src=\"https://colab.research.google.com/assets/colab-badge.svg\" alt=\"Open In Colab\"/></a>"
      ]
    },
    {
      "cell_type": "code",
      "execution_count": null,
      "metadata": {
        "id": "E1WY9LEFX5yO"
      },
      "outputs": [],
      "source": [
        "#1 - Peça dois números ao usuário e exiba a soma.\n",
        "number1 = int(input('Digite sua primeira escolha: '))\n",
        "number2 = int(input('Digite sua segunda escolha: '))\n",
        "soma = number1+number2\n",
        "print(soma)\n",
        "#ou\n",
        "print(number1+number2)\n"
      ]
    },
    {
      "cell_type": "code",
      "source": [
        "#2 - Solicite o primeiro e o último nome do usuário e exiba o nome completo.\n",
        "primeiro = input('Digite seu primeiro nome: ')\n",
        "ultimo = input('Digite seu último nome: ')\n",
        "print('Seu nome completo é ' + primeiro + ' ' + ultimo) #concatenado\n",
        "#ou\n",
        "print('Seu nome completo é',primeiro,ultimo) #sequencial\n",
        "#ou\n",
        "print(f'Seu nome completo é {primeiro} {ultimo}') #formatado"
      ],
      "metadata": {
        "id": "5vpj5CyNZzaa"
      },
      "execution_count": null,
      "outputs": []
    },
    {
      "cell_type": "code",
      "source": [
        "# 3 - Peça uma palavra e um número ao usuário e exiba a palavra repetida esse número de vezes.\n",
        "palavra = input('Digite uma palavra: ')\n",
        "numero = int(input('Digite um número: '))\n",
        "palavra = (palavra + '\\n') # '\\n' adiciona um parágrafo\n",
        "print(palavra*numero)\n"
      ],
      "metadata": {
        "id": "isEgfnFYcgO9"
      },
      "execution_count": null,
      "outputs": []
    },
    {
      "cell_type": "code",
      "source": [
        "# 4 - Solicite um texto e exiba-o em letras maiúsculas.\n",
        "texto = input('Digite seu texto')\n",
        "print(texto.upper())"
      ],
      "metadata": {
        "id": "MlGvyebOhww3"
      },
      "execution_count": null,
      "outputs": []
    },
    {
      "cell_type": "code",
      "source": [
        "#5 - Peça uma palavra e exiba quantos caracteres ela tem.\n",
        "palavrinha = input('Digite sua palavra: ')\n",
        "print(f'Sua palavra possui {len(palavrinha)} letras')"
      ],
      "metadata": {
        "id": "YSTyzo93di_c"
      },
      "execution_count": null,
      "outputs": []
    },
    {
      "cell_type": "code",
      "source": [
        "#6 - Mostre a data e a hora atuais.\n",
        "from datetime import datetime\n",
        "import pytz #Python Time Zone\n",
        "brasil = pytz.timezone(\"America/Sao_Paulo\") #Conversao do fuso horario para America/São Paulo\n",
        "agora = datetime.strftime(datetime.now(brasil),'Hoje são %d-%m-%Y e são %H:%M:%S') #String from time(strftime) converte de tempo para string formatável\n",
        "print(agora) #imprimir\n"
      ],
      "metadata": {
        "id": "Epum5VYUkBj1"
      },
      "execution_count": null,
      "outputs": []
    },
    {
      "cell_type": "code",
      "source": [
        "#7 - Solicite o ano de nascimento do usuário e calcule a idade aproximada."
      ],
      "metadata": {
        "id": "mT3xdLvCwqOq"
      },
      "execution_count": null,
      "outputs": []
    },
    {
      "cell_type": "code",
      "source": [
        "#8 - Peça três números ao usuário e exiba a média aritmética."
      ],
      "metadata": {
        "id": "ZSxtet-Pwqdg"
      },
      "execution_count": null,
      "outputs": []
    },
    {
      "cell_type": "code",
      "source": [
        "#9 - Solicite a data de nascimento do usuário no formato AAAA-MM-DD e calcule aproximadamente quantos dias ele já viveu.\n"
      ],
      "metadata": {
        "id": "0lhe2qCzwqk5"
      },
      "execution_count": null,
      "outputs": []
    },
    {
      "cell_type": "code",
      "source": [
        "#10 - Solicite uma data no formato AAAA-MM-DD e exiba-a no formato DD/MM/AAAA.\n"
      ],
      "metadata": {
        "id": "m8WfLTZpwqpx"
      },
      "execution_count": null,
      "outputs": []
    }
  ]
}