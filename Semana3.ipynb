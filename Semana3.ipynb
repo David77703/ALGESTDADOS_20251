{
  "nbformat": 4,
  "nbformat_minor": 0,
  "metadata": {
    "colab": {
      "provenance": [],
      "authorship_tag": "ABX9TyOz0XQceBeF4SLjv/5AcZx7",
      "include_colab_link": true
    },
    "kernelspec": {
      "name": "python3",
      "display_name": "Python 3"
    },
    "language_info": {
      "name": "python"
    }
  },
  "cells": [
    {
      "cell_type": "markdown",
      "metadata": {
        "id": "view-in-github",
        "colab_type": "text"
      },
      "source": [
        "<a href=\"https://colab.research.google.com/github/gnrochabr/ALGESTDADOS_20251/blob/main/Semana3.ipynb\" target=\"_parent\"><img src=\"https://colab.research.google.com/assets/colab-badge.svg\" alt=\"Open In Colab\"/></a>"
      ]
    },
    {
      "cell_type": "code",
      "execution_count": null,
      "metadata": {
        "id": "E1WY9LEFX5yO"
      },
      "outputs": [],
      "source": [
        "#1 - Peça dois números ao usuário e exiba a soma.\n",
        "number1 = int(input('Digite sua primeira escolha: '))\n",
        "number2 = int(input('Digite sua segunda escolha: '))\n",
        "soma = number1+number2\n",
        "print(soma)\n",
        "#ou\n",
        "print(number1+number2)"
      ]
    },
    {
      "cell_type": "code",
      "source": [
        "#2 - Solicite o primeiro e o último nome do usuário e exiba o nome completo.\n",
        "primeiro = input('Digite seu primeiro nome: ')\n",
        "ultimo = input('Digite seu último nome: ')\n",
        "print('Seu nome completo é ' + primeiro + ' ' + ultimo) #concatenado\n",
        "#ou\n",
        "print('Seu nome completo é',primeiro,ultimo) #sequencial\n",
        "#ou\n",
        "print(f'Seu nome completo é {primeiro} {ultimo}') #formatado"
      ],
      "metadata": {
        "id": "5vpj5CyNZzaa"
      },
      "execution_count": null,
      "outputs": []
    },
    {
      "cell_type": "code",
      "source": [
        "# 3 - Peça uma palavra e um número ao usuário e exiba a palavra repetida esse número de vezes.\n",
        "palavra = input('Digite uma palavra: ')\n",
        "numero = int(input('Digite um número: '))\n",
        "palavra = (palavra + '\\n') # '\\n' adiciona um parágrafo\n",
        "print(palavra*numero)"
      ],
      "metadata": {
        "id": "isEgfnFYcgO9"
      },
      "execution_count": null,
      "outputs": []
    },
    {
      "cell_type": "code",
      "source": [
        "# 4 - Solicite um texto e exiba-o em letras maiúsculas.\n",
        "texto = input('Digite seu texto')\n",
        "print(texto.upper())"
      ],
      "metadata": {
        "id": "MlGvyebOhww3"
      },
      "execution_count": null,
      "outputs": []
    },
    {
      "cell_type": "code",
      "source": [
        "#5 - Peça uma palavra e exiba quantos caracteres ela tem.\n",
        "palavrinha = input('Digite sua palavra: ')\n",
        "print(f'Sua palavra possui {len(palavrinha)} letras')"
      ],
      "metadata": {
        "id": "YSTyzo93di_c"
      },
      "execution_count": null,
      "outputs": []
    },
    {
      "cell_type": "code",
      "source": [
        "#6 - Mostre a data e a hora atuais.\n",
        "from datetime import datetime #importa a função datetime da biblioteca datetime\n",
        "import pytz #importa o Python Time Zone, nativo do python\n",
        "brasil = pytz.timezone(\"America/Sao_Paulo\") #Conversão do fuso horario para America/São Paulo\n",
        "agora = datetime.strftime(datetime.now(brasil),'Hoje são %d-%m-%Y e são %H:%M:%S') #String from time(strftime) converte de tempo para string formatável\n",
        "print(agora) #imprimir"
      ],
      "metadata": {
        "id": "Epum5VYUkBj1"
      },
      "execution_count": null,
      "outputs": []
    },
    {
      "cell_type": "code",
      "source": [
        "#7 - Solicite o ano de nascimento do usuário e calcule a idade aproximada.\n",
        "from datetime import datetime\n",
        "nascimento = input('Digite sua data de nascimento: ')\n",
        "#diferença de datas = hoje - data de nascimento\n",
        "diff = datetime.now() - datetime.strptime(nascimento,'%d/%m/%Y')\n",
        "#idade = a diferença de data em dias, divisão inteira, por 365.\n",
        "idade = diff.days // 365\n",
        "print(idade)"
      ],
      "metadata": {
        "id": "mT3xdLvCwqOq"
      },
      "execution_count": null,
      "outputs": []
    },
    {
      "cell_type": "code",
      "source": [
        "#8 - Peça três números ao usuário e exiba a média aritmética.\n",
        "num1 = float(input('Digite o primeiro valor:'))\n",
        "num2 = float(input('Digite o segundo valor:'))\n",
        "num3 = float(input('Digite o terceiro valor:'))\n",
        "print((num1+num2+num3)/3)"
      ],
      "metadata": {
        "id": "ZSxtet-Pwqdg"
      },
      "execution_count": null,
      "outputs": []
    },
    {
      "cell_type": "code",
      "source": [
        "#9 - Solicite a data de nascimento do usuário no formato AAAA-MM-DD e calcule aproximadamente quantos dias ele já viveu.\n",
        "from datetime import datetime\n",
        "data = input('Sua data de nascimento (AAAA-MM-DD): ')\n",
        "dataconv = datetime.strptime(data,'%Y-%m-%d')\n",
        "dias = datetime.now() - dataconv\n",
        "print(f'Você já viveu {dias.days} dias!')"
      ],
      "metadata": {
        "id": "0lhe2qCzwqk5"
      },
      "execution_count": null,
      "outputs": []
    },
    {
      "cell_type": "code",
      "source": [
        "#10 - Solicite uma data no formato AAAA-MM-DD e exiba-a no formato DD/MM/AAAA.\n",
        "from datetime import datetime\n",
        "data = input('Sua data de nascimento (AAAA-MM-DD): ')\n",
        "stringparadata = datetime.strptime(data,'%Y-%m-%d')\n",
        "dataparastring = datetime.strftime(stringparadata,'%d/%m/%Y')\n",
        "print(dataparastring)"
      ],
      "metadata": {
        "id": "m8WfLTZpwqpx"
      },
      "execution_count": null,
      "outputs": []
    },
    {
      "cell_type": "code",
      "source": [
        "# 11. Solicite o raio de um círculo e calcule sua área.\n",
        "import math\n",
        "raio = float(input('Digite o raio do círculo(cm): '))\n",
        "area = math.pi * pow(raio,2)\n",
        "print(f'A area do círculo é {area:.2f} cm². ')"
      ],
      "metadata": {
        "id": "MUz_a8ed2PXd"
      },
      "execution_count": null,
      "outputs": []
    },
    {
      "cell_type": "code",
      "source": [
        "# 12. Solicite o peso e a altura da pessoa e calcule o IMC.\n",
        "peso = float(input('Digite seu peso(kg): '))\n",
        "altura = float(input('Digite sua altura(m): '))\n",
        "imc = peso / pow(altura,2)\n",
        "print(f'Seu IMC é {imc:.2f}')"
      ],
      "metadata": {
        "id": "zhjJa6Vb2pZA"
      },
      "execution_count": null,
      "outputs": []
    },
    {
      "cell_type": "code",
      "source": [
        "# 13. Peça a altura e as bases de um trapézio e calcule a sua área.\n",
        "altura = float(input('Digite a altura do trapézio(cm): '))\n",
        "basemaior = float(input('Digite a base maior do trapézio(cm): '))\n",
        "basemenor = float(input('Digite a base menor do trapézio(cm): '))\n",
        "area = ((basemaior+basemenor)*altura)/2\n",
        "print(f'A área do trapézio é {area:.2f} cm²')"
      ],
      "metadata": {
        "id": "Ca53lzn-2p7A"
      },
      "execution_count": null,
      "outputs": []
    },
    {
      "cell_type": "code",
      "source": [
        "# 14. Solicite uma temperatura em Celsius e converta-a para Fahrenheit.\n",
        "celsius = float(input('Digite a temperatura em Celsius: '))\n",
        "fahrenheit = (celsius*9/5)+32\n",
        "print(f'A temperatura em Fahrenheit é {fahrenheit:.2f}')"
      ],
      "metadata": {
        "id": "gPa5c6I3aSAo"
      },
      "execution_count": null,
      "outputs": []
    },
    {
      "cell_type": "code",
      "source": [
        "# 15. Peça um número e exiba o fatorial dele.\n",
        "#leitura do numero\n",
        "numero = int(input('Digite um número'))\n",
        "\n",
        "#para garantir que não haja 0 na multiplicação\n",
        "fatorial = 1\n",
        "\n",
        "#Função de repetição (Laço For)\n",
        "for i in range(1,numero+1): #Enquanto i for menor igual que numero+1, soma +1\n",
        "\n",
        "#identação: No python só é executado em um laço de repetição ou condicional,\n",
        "#se os comandos tiverem corretamente identados (paragrafados)\n",
        "  fatorial *= i #mesma coisa: fatorial = fatorial*i\n",
        "\n",
        "print(fatorial) #imprimir fatorial"
      ],
      "metadata": {
        "id": "nFDNpzqz2qQA"
      },
      "execution_count": null,
      "outputs": []
    }
  ]
}