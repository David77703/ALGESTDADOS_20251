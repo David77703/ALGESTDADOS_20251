{
  "nbformat": 4,
  "nbformat_minor": 0,
  "metadata": {
    "colab": {
      "provenance": [],
      "authorship_tag": "ABX9TyMTR2joQCJjIZDiH3/aGGpV",
      "include_colab_link": true
    },
    "kernelspec": {
      "name": "python3",
      "display_name": "Python 3"
    },
    "language_info": {
      "name": "python"
    }
  },
  "cells": [
    {
      "cell_type": "markdown",
      "metadata": {
        "id": "view-in-github",
        "colab_type": "text"
      },
      "source": [
        "<a href=\"https://colab.research.google.com/github/gnrochabr/ALGESTDADOS_20251/blob/main/Semana3.ipynb\" target=\"_parent\"><img src=\"https://colab.research.google.com/assets/colab-badge.svg\" alt=\"Open In Colab\"/></a>"
      ]
    },
    {
      "cell_type": "code",
      "execution_count": null,
      "metadata": {
        "id": "E1WY9LEFX5yO"
      },
      "outputs": [],
      "source": [
        "#Peça dois números ao usuário e exiba a soma.\n",
        "number1 = int(input('Digite sua primeira escolha: '))\n",
        "number2 = int(input('Digite sua segunda escolha: '))\n",
        "soma = number1+number2\n",
        "print(soma)\n",
        "#ou\n",
        "print(number1+number2)\n"
      ]
    },
    {
      "cell_type": "code",
      "source": [
        "#Solicite o primeiro e o último nome do usuário e exiba o nome completo.\n",
        "primeiro = input('Digite seu primeiro nome: ')\n",
        "ultimo = input('Digite seu último nome: ')\n",
        "print('Seu nome completo é ' + primeiro + ' ' + ultimo) #concatenado\n",
        "#ou\n",
        "print('Seu nome completo é',primeiro,ultimo) #sequencial\n",
        "#ou\n",
        "print(f'Seu nome completo é {primeiro} {ultimo}') #formatado"
      ],
      "metadata": {
        "colab": {
          "base_uri": "https://localhost:8080/"
        },
        "id": "5vpj5CyNZzaa",
        "outputId": "04387195-ce46-40b1-e434-5d1ad158f9ae"
      },
      "execution_count": 7,
      "outputs": [
        {
          "output_type": "stream",
          "name": "stdout",
          "text": [
            "Digite seu primeiro nome: Gustavo Rocha\n",
            "Digite seu último nome: Rocha\n",
            "Seu nome completo é Gustavo Rocha Rocha\n",
            "Seu nome completo é Gustavo Rocha Rocha\n",
            "Seu nome completo é Gustavo Rocha Rocha\n"
          ]
        }
      ]
    },
    {
      "cell_type": "code",
      "source": [
        "#Peça uma palavra e um número ao usuário e exiba a palavra repetida esse número de vezes.\n",
        "palavra = input('Digite uma palavra: ')\n",
        "numero = int(input('Digite um número: '))\n",
        "palavra = (palavra + '\\n') # '\\n' adiciona um parágrafo\n",
        "print(palavra*numero)\n",
        ""
      ],
      "metadata": {
        "colab": {
          "base_uri": "https://localhost:8080/"
        },
        "id": "isEgfnFYcgO9",
        "outputId": "9d4120b5-4406-4b7a-b4b0-738b57dab9b7"
      },
      "execution_count": 25,
      "outputs": [
        {
          "output_type": "stream",
          "name": "stdout",
          "text": [
            "Digite uma palavra: Gustavo\n",
            "Digite um número: 1\n",
            "8\n",
            "Gustavo\n",
            "\n"
          ]
        }
      ]
    },
    {
      "cell_type": "code",
      "source": [
        "#Solicite um texto e exiba-o em letras maiúsculas.\n",
        "texto = input('Digite seu texto')\n",
        "print(texto.upper())"
      ],
      "metadata": {
        "id": "MlGvyebOhww3"
      },
      "execution_count": null,
      "outputs": []
    },
    {
      "cell_type": "code",
      "source": [
        "#Peça uma palavra e exiba quantos caracteres ela tem.\n",
        "palavrinha = input('Digite sua palavra: ')\n",
        "print(f'Sua palavra possui {len(palavrinha)} letras')"
      ],
      "metadata": {
        "colab": {
          "base_uri": "https://localhost:8080/"
        },
        "id": "YSTyzo93di_c",
        "outputId": "737cb1b5-903b-437b-b29a-bb79340b9fdf"
      },
      "execution_count": 26,
      "outputs": [
        {
          "output_type": "stream",
          "name": "stdout",
          "text": [
            "Digite sua palavraRianny\n",
            "Sua palavra possui 6 letras\n"
          ]
        }
      ]
    },
    {
      "cell_type": "code",
      "source": [
        "#Mostre a data e a hora atuais.\n",
        "from datetime import datetime\n",
        "import pytz #Python Time Zone\n",
        "brasil = pytz.timezone(\"America/Sao_Paulo\") #Conversao do fuso horario para America/São Paulo\n",
        "agora = datetime.strftime(datetime.now(brasil),'Hoje são %d-%m-%Y e são %H:%M:%S') #String from time(strftime) converte de tempo para string formatável\n",
        "print(agora) #imprimir\n"
      ],
      "metadata": {
        "colab": {
          "base_uri": "https://localhost:8080/"
        },
        "id": "Epum5VYUkBj1",
        "outputId": "3b345a28-ead2-407a-a4b6-2a9c98608e2f"
      },
      "execution_count": 36,
      "outputs": [
        {
          "output_type": "stream",
          "name": "stdout",
          "text": [
            "Hoje são 13-03-2025 e são 14:41:19\n"
          ]
        }
      ]
    }
  ]
}