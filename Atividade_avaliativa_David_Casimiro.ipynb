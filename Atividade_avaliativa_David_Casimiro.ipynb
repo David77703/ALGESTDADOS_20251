{
  "nbformat": 4,
  "nbformat_minor": 0,
  "metadata": {
    "colab": {
      "provenance": [],
      "authorship_tag": "ABX9TyN3sP5c3JenxXyoDBP9U+SF",
      "include_colab_link": true
    },
    "kernelspec": {
      "name": "python3",
      "display_name": "Python 3"
    },
    "language_info": {
      "name": "python"
    }
  },
  "cells": [
    {
      "cell_type": "markdown",
      "metadata": {
        "id": "view-in-github",
        "colab_type": "text"
      },
      "source": [
        "<a href=\"https://colab.research.google.com/github/David77703/ALGESTDADOS_20251/blob/main/Atividade_avaliativa_David_Casimiro.ipynb\" target=\"_parent\"><img src=\"https://colab.research.google.com/assets/colab-badge.svg\" alt=\"Open In Colab\"/></a>"
      ]
    },
    {
      "cell_type": "markdown",
      "source": [
        "#atividade avaliativa / David Casimiro Candido"
      ],
      "metadata": {
        "id": "T1sphO4UOVQC"
      }
    },
    {
      "cell_type": "code",
      "source": [
        "#1- Peça um número ao usuário e verifique se ele é menor que 50. Informe o resultado com uma mensagem.\n",
        "\n",
        "numero = int(input(\"Digite um número: \"))\n",
        "\n",
        "if numero < 50:\n",
        "  print(f\"O número {numero} é menor que 50.\")\n",
        "else:\n",
        "  print(f\"O número {numero} não é menor que 50.\")\n"
      ],
      "metadata": {
        "id": "ZbJOmuSvOtMQ"
      },
      "execution_count": null,
      "outputs": []
    },
    {
      "cell_type": "code",
      "source": [
        "#2- Solicite um número ao usuário e informe se ele é divisível por 7. Para isso, utilize uma verificação simples.\n",
        "\n",
        "numero = int(input(\"Digite um número: \"))\n",
        "\n",
        "if numero % 7 == 0:\n",
        "  print(f\"O número {numero} é divisível por 7.\")\n",
        "else:\n",
        "  print(f\"O número {numero} não é divisível por 7.\")\n"
      ],
      "metadata": {
        "id": "VWlfTuhoP3Nu"
      },
      "execution_count": null,
      "outputs": []
    },
    {
      "cell_type": "code",
      "source": [
        "#3- Peça um nome ao usuário e verifique se ele contém a letra \"o\". Exiba uma mensagem informando o resultado.\n",
        "\n",
        "nome = input(\"Digite um nome: \")\n",
        "\n",
        "if \"o\" in nome.lower():\n",
        "  print(f\"O nome {nome} contém a letra 'o'.\")\n",
        "else:\n",
        "  print(f\"O nome {nome} não contém a letra 'o'.\")\n"
      ],
      "metadata": {
        "id": "VVqCdehFQZC6"
      },
      "execution_count": null,
      "outputs": []
    },
    {
      "cell_type": "code",
      "source": [
        "#4- Solicite um número inteiro e verifique se ele termina em 0. Utilize operações matemáticas para essa verificação.\n",
        "\n",
        "numero = int(input(\"Digite um número inteiro: \"))\n",
        "\n",
        "if numero % 10 == 0:\n",
        "  print(f\"O número {numero} termina em 0.\")\n",
        "else:\n",
        "  print(f\"O número {numero} não termina em 0.\")\n"
      ],
      "metadata": {
        "id": "qdzPxDPGQuVk"
      },
      "execution_count": null,
      "outputs": []
    },
    {
      "cell_type": "code",
      "source": [
        "#5- Peça a idade de uma pessoa e informe se ela tem idade suficiente para votar (considerando 16 anos como idade mínima).\n",
        "\n",
        "idade = int(input(\"Digite sua idade: \"))\n",
        "\n",
        "if idade >= 16:\n",
        "  print(\"Você tem idade suficiente para votar.\")\n",
        "else:\n",
        "  print(\"Você não tem idade suficiente para votar.\")\n"
      ],
      "metadata": {
        "id": "VRWJm-HKRJ46"
      },
      "execution_count": null,
      "outputs": []
    },
    {
      "cell_type": "code",
      "source": [
        "#6- Solicite ao usuário que digite um único caractere e informe se ele é uma vogal (a, e, i, o, u).\n",
        "\n",
        "caractere = input(\"Digite um único caractere: \")\n",
        "\n",
        "if len(caractere) != 1:\n",
        "    print(\"Por favor, digite apenas um caractere.\")\n",
        "else:\n",
        "    vogais = \"aeiouAEIOU\"\n",
        "    if caractere in vogais:\n",
        "        print(f\"O caractere '{caractere}' é uma vogal.\")\n",
        "    else:\n",
        "        print(f\"O caractere '{caractere}' não é uma vogal.\")\n"
      ],
      "metadata": {
        "id": "jKpysZPtUVwr"
      },
      "execution_count": null,
      "outputs": []
    },
    {
      "cell_type": "code",
      "source": [
        "#7- Peça a temperatura atual em graus Celsius e classifique-a como \"abaixo de zero\", \"entre 0°C e 20°C\" ou \"acima de 20°C\".\n",
        "\n",
        "temperatura = float(input(\"Digite a temperatura atual em graus Celsius: \"))\n",
        "\n",
        "if temperatura < 0:\n",
        "  print(\"A temperatura está abaixo de zero.\")\n",
        "elif temperatura <= 20:\n",
        "  print(\"A temperatura está entre 0°C e 20°C.\")\n",
        "else:\n",
        "  print(\"A temperatura está acima de 20°C.\")\n"
      ],
      "metadata": {
        "id": "dGVToHcuUZJL"
      },
      "execution_count": null,
      "outputs": []
    },
    {
      "cell_type": "code",
      "source": [
        "#8- Solicite um número e informe se ele é maior que 1000. Exiba uma mensagem apropriada.\n",
        "\n",
        "numero = int(input(\"Digite um número: \"))\n",
        "\n",
        "if numero > 1000:\n",
        "  print(f\"O número {numero} é maior que 1000.\")\n",
        "else:\n",
        "  print(f\"O número {numero} não é maior que 1000.\")\n"
      ],
      "metadata": {
        "id": "HwDkaTyqUeLJ"
      },
      "execution_count": null,
      "outputs": []
    },
    {
      "cell_type": "code",
      "source": [
        "#9- Peça um valor em reais e informe se ele é múltiplo de 50, ou seja, se o valor pode ser pago apenas com notas de R$50,00.\n",
        "\n",
        "valor = float(input(\"Digite um valor em reais: \"))\n",
        "\n",
        "if valor % 50 == 0:\n",
        "  print(f\"O valor R${valor:.2f} é múltiplo de 50.\")\n",
        "else:\n",
        "  print(f\"O valor R${valor:.2f} não é múltiplo de 50.\")\n"
      ],
      "metadata": {
        "id": "mJBiuWqoUiH7"
      },
      "execution_count": null,
      "outputs": []
    },
    {
      "cell_type": "code",
      "source": [
        "#10- Solicite um número ao usuário e verifique se ele está no intervalo entre 100 e 200 (inclusive). Informe o resultado.\n",
        "\n",
        "numero = int(input(\"Digite um número: \"))\n",
        "\n",
        "if 100 <= numero <= 200:\n",
        "  print(f\"O número {numero} está entre 100 e 200 (inclusive).\")\n",
        "else:\n",
        "  print(f\"O número {numero} não está entre 100 e 200 (inclusive).\")\n"
      ],
      "metadata": {
        "id": "u_deSH01UmIM"
      },
      "execution_count": null,
      "outputs": []
    },
    {
      "cell_type": "code",
      "source": [
        "#11- Peça a altura de uma árvore em metros e informe se ela tem menos de 5 metros de altura.\n",
        "\n",
        "altura = float(input(\"Digite a altura da árvore em metros: \"))\n",
        "\n",
        "if altura < 5:\n",
        "  print(\"A árvore tem menos de 5 metros de altura.\")\n",
        "else:\n",
        "  print(\"A árvore tem 5 metros ou mais de altura.\")\n"
      ],
      "metadata": {
        "id": "8l9bx8__VTRq"
      },
      "execution_count": null,
      "outputs": []
    },
    {
      "cell_type": "code",
      "source": [
        "#12- Solicite a temperatura de um líquido em graus Celsius e informe seu estado físico: \"congelado\" (≤0°C), \"líquido\" (0°C a 100°C) ou \"ebulição\" (>100°C).\n",
        "\n",
        "temperatura = float(input(\"Digite a temperatura do líquido em graus Celsius: \"))\n",
        "\n",
        "if temperatura <= 0:\n",
        "  print(\"O líquido está congelado.\")\n",
        "elif temperatura <= 100:\n",
        "  print(\"O líquido está no estado líquido.\")\n",
        "else:\n",
        "  print(\"O líquido está em ebulição.\")\n"
      ],
      "metadata": {
        "id": "ZhluJONAVZwO"
      },
      "execution_count": null,
      "outputs": []
    },
    {
      "cell_type": "code",
      "source": [
        "#13- Peça um número inteiro e verifique se ele é múltiplo de 10. Mostre uma mensagem indicando o resultado.\n",
        "\n",
        "numero = int(input(\"Digite um número inteiro: \"))\n",
        "\n",
        "if numero % 10 == 0:\n",
        "  print(f\"O número {numero} é múltiplo de 10.\")\n",
        "else:\n",
        "  print(f\"O número {numero} não é múltiplo de 10.\")\n"
      ],
      "metadata": {
        "id": "wTadAIU-Ve7Y"
      },
      "execution_count": null,
      "outputs": []
    },
    {
      "cell_type": "code",
      "source": [
        "#14- Solicite a nota final de dois alunos e exiba qual deles teve a maior pontuação.\n",
        "\n",
        "def get_student_grade(student_name):\n",
        "  while True:\n",
        "    try:\n",
        "      grade = float(input(f\"Digite a nota final de {student_name}: \"))\n",
        "      if 0 <= grade <= 10:\n",
        "        return grade\n",
        "      else:\n",
        "        print(\"Nota inválida. Digite um valor entre 0 e 10.\")\n",
        "    except ValueError:\n",
        "      print(\"Entrada inválida. Digite um número.\")\n",
        "\n",
        "student1_name = input(\"Digite o nome do primeiro aluno: \")\n",
        "student1_grade = get_student_grade(student1_name)\n",
        "\n",
        "student2_name = input(\"Digite o nome do segundo aluno: \")\n",
        "student2_grade = get_student_grade(student2_name)\n",
        "\n",
        "\n",
        "if student1_grade > student2_grade:\n",
        "  print(f\"{student1_name} teve a maior pontuação ({student1_grade}).\")\n",
        "elif student2_grade > student1_grade:\n",
        "  print(f\"{student2_name} teve a maior pontuação ({student2_grade}).\")\n",
        "else:\n",
        "  print(f\"{student1_name} e {student2_name} tiveram a mesma pontuação ({student1_grade}).\")\n"
      ],
      "metadata": {
        "id": "soRmgBbnVnah"
      },
      "execution_count": null,
      "outputs": []
    },
    {
      "cell_type": "code",
      "source": [
        "#15- Peça o nome de uma fruta e verifique se ela contém a letra \"e\". Exiba o resultado.\n",
        "\n",
        "fruta = input(\"Digite o nome de uma fruta: \")\n",
        "\n",
        "if \"e\" in fruta.lower():\n",
        "  print(f\"A fruta {fruta} contém a letra 'e'.\")\n",
        "else:\n",
        "  print(f\"A fruta {fruta} não contém a letra 'e'.\")\n"
      ],
      "metadata": {
        "id": "NNFI5IPfVyom"
      },
      "execution_count": null,
      "outputs": []
    },
    {
      "cell_type": "code",
      "source": [
        "#16- Peça a velocidade de um carro em km/h e informe se ela ultrapassa o limite de 80 km/h.\n",
        "\n",
        "velocidade = float(input(\"Digite a velocidade do carro em km/h: \"))\n",
        "\n",
        "if velocidade > 80:\n",
        "  print(\"A velocidade do carro ultrapassa o limite de 80 km/h.\")\n",
        "else:\n",
        "  print(\"A velocidade do carro está dentro do limite de 80 km/h.\")\n"
      ],
      "metadata": {
        "id": "pP_oWDoMabEl"
      },
      "execution_count": null,
      "outputs": []
    },
    {
      "cell_type": "code",
      "source": [
        "#17- Solicite um número ao usuário e informe se ele é divisível por 4 ou por 5. Exiba uma mensagem adequada.\n",
        "\n",
        "numero = int(input(\"Digite um número: \"))\n",
        "\n",
        "if numero % 4 == 0:\n",
        "  print(f\"O número {numero} é divisível por 4.\")\n",
        "elif numero % 5 == 0:\n",
        "  print(f\"O número {numero} é divisível por 5.\")\n",
        "else:\n",
        "  print(f\"O número {numero} não é divisível por 4 nem por 5.\")\n"
      ],
      "metadata": {
        "id": "gfQy6O9YagJu"
      },
      "execution_count": null,
      "outputs": []
    },
    {
      "cell_type": "code",
      "source": [
        "#18- Peça uma palavra ao usuário e verifique se ela contém a letra \"z\". Mostre uma mensagem informando o resultado.\n",
        "\n",
        "palavra = input(\"Digite uma palavra: \")\n",
        "\n",
        "if \"z\" in palavra.lower():\n",
        "  print(f\"A palavra '{palavra}' contém a letra 'z'.\")\n",
        "else:\n",
        "  print(f\"A palavra '{palavra}' não contém a letra 'z'.\")\n"
      ],
      "metadata": {
        "id": "_yas9g1iarh0"
      },
      "execution_count": null,
      "outputs": []
    },
    {
      "cell_type": "code",
      "source": [
        "#19- Solicite a quantidade de itens em um pedido e informe se ela é maior ou menor que 15 unidades.\n",
        "\n",
        "quantidade_itens = int(input(\"Digite a quantidade de itens no pedido: \"))\n",
        "\n",
        "if quantidade_itens > 15:\n",
        "  print(\"A quantidade de itens é maior que 15 unidades.\")\n",
        "else:\n",
        "  print(\"A quantidade de itens é menor ou igual a 15 unidades.\")\n"
      ],
      "metadata": {
        "id": "oaoGNDaqayoN"
      },
      "execution_count": null,
      "outputs": []
    },
    {
      "cell_type": "code",
      "source": [
        "#20- Peça um número e verifique se ele termina com o dígito 7. Informe o resultado.\n",
        "\n",
        "numero = int(input(\"Digite um número: \"))\n",
        "\n",
        "if numero % 10 == 7:\n",
        "  print(f\"O número {numero} termina com o dígito 7.\")\n",
        "else:\n",
        "  print(f\"O número {numero} não termina com o dígito 7.\")\n"
      ],
      "metadata": {
        "id": "wFdGICWma481"
      },
      "execution_count": null,
      "outputs": []
    },
    {
      "cell_type": "code",
      "source": [
        "#21- Solicite o ano de fabricação de um veículo e informe se ele tem mais de 20 anos.\n",
        "\n",
        "ano_fabricacao = int(input(\"Digite o ano de fabricação do veículo: \"))\n",
        "ano_atual = 2024  # Substitua pelo ano atual\n",
        "\n",
        "if ano_atual - ano_fabricacao > 20:\n",
        "    print(\"O veículo tem mais de 20 anos.\")\n",
        "else:\n",
        "    print(\"O veículo tem 20 anos ou menos.\")\n"
      ],
      "metadata": {
        "id": "Km_Y2DvFa_8c"
      },
      "execution_count": null,
      "outputs": []
    },
    {
      "cell_type": "code",
      "source": [
        "#22- Peça um número de telefone e verifique se ele contém o dígito 9. Exiba o resultado.\n",
        "\n",
        "telefone = input(\"Digite um número de telefone: \")\n",
        "\n",
        "if '9' in telefone:\n",
        "  print(\"O número de telefone contém o dígito 9.\")\n",
        "else:\n",
        "  print(\"O número de telefone não contém o dígito 9.\")\n"
      ],
      "metadata": {
        "id": "Bc4IqBUlbDz_"
      },
      "execution_count": null,
      "outputs": []
    },
    {
      "cell_type": "code",
      "source": [
        "#23- Solicite um número e informe se ele possui exatamente 2 dígitos.\n",
        "\n",
        "numero = int(input(\"Digite um número: \"))\n",
        "\n",
        "if 10 <= numero <= 99:\n",
        "  print(\"O número possui exatamente dois dígitos.\")\n",
        "else:\n",
        "  print(\"O número não possui exatamente dois dígitos.\")\n"
      ],
      "metadata": {
        "id": "4I2R64VqbKGM"
      },
      "execution_count": null,
      "outputs": []
    },
    {
      "cell_type": "code",
      "source": [
        "#24- Peça o preço de um ingresso e aplique um desconto de 15%. Verifique se o preço com desconto ainda é superior a R$50,00 e exiba uma mensagem informando o resultado.\n",
        "\n",
        "preco_ingresso = float(input(\"Digite o preço do ingresso: \"))\n",
        "\n",
        "desconto = preco_ingresso * 0.15\n",
        "preco_com_desconto = preco_ingresso - desconto\n",
        "\n",
        "if preco_com_desconto > 50:\n",
        "  print(f\"O preço do ingresso com desconto é R${preco_com_desconto:.2f}, que é superior a R$50,00.\")\n",
        "else:\n",
        "  print(f\"O preço do ingresso com desconto é R${preco_com_desconto:.2f}, que não é superior a R$50,00.\")\n"
      ],
      "metadata": {
        "id": "eWJk73aHbRID"
      },
      "execution_count": null,
      "outputs": []
    },
    {
      "cell_type": "code",
      "source": [
        "#25- Solicite um número ao usuário e informe se ele é divisível por 8. Exiba o resultado.\n",
        "\n",
        "numero = int(input(\"Digite um número: \"))\n",
        "\n",
        "if numero % 8 == 0:\n",
        "  print(f\"O número {numero} é divisível por 8.\")\n",
        "else:\n",
        "  print(f\"O número {numero} não é divisível por 8.\")\n"
      ],
      "metadata": {
        "id": "40B8mkEmba00"
      },
      "execution_count": null,
      "outputs": []
    },
    {
      "cell_type": "code",
      "source": [
        "#26- Peça um número e verifique se ele é divisível tanto por 5 quanto por 9. Informe o resultado.\n",
        "\n",
        "numero = int(input(\"Digite um número: \"))\n",
        "\n",
        "if numero % 5 == 0 and numero % 9 == 0:\n",
        "  print(f\"O número {numero} é divisível por 5 e por 9.\")\n",
        "else:\n",
        "  print(f\"O número {numero} não é divisível por 5 e por 9.\")\n"
      ],
      "metadata": {
        "id": "s6iP-Uyvbg-q"
      },
      "execution_count": null,
      "outputs": []
    },
    {
      "cell_type": "code",
      "source": [
        "#27- Solicite o peso de um objeto em kg e informe se ele pesa mais de 25 kg.\n",
        "\n",
        "peso = float(input(\"Digite o peso do objeto em kg: \"))\n",
        "\n",
        "if peso > 25:\n",
        "  print(\"O objeto pesa mais de 25 kg.\")\n",
        "else:\n",
        "  print(\"O objeto não pesa mais de 25 kg.\")\n"
      ],
      "metadata": {
        "id": "tI7nCZl9cNTo"
      },
      "execution_count": null,
      "outputs": []
    },
    {
      "cell_type": "code",
      "source": [
        "#28- Peça uma letra ao usuário e informe se ela é uma vogal ou uma consoante. Considere letras minúsculas e maiúsculas.\n",
        "\n",
        "caractere = input(\"Digite um único caractere: \")\n",
        "\n",
        "if len(caractere) != 1:\n",
        "    print(\"Por favor, digite apenas um caractere.\")\n",
        "else:\n",
        "    vogais = \"aeiouAEIOU\"\n",
        "    if caractere in vogais:\n",
        "        print(f\"O caractere '{caractere}' é uma vogal.\")\n",
        "    else:\n",
        "        print(f\"O caractere '{caractere}' não é uma vogal.\")\n"
      ],
      "metadata": {
        "id": "MaNAi_VOcZRw"
      },
      "execution_count": null,
      "outputs": []
    },
    {
      "cell_type": "code",
      "source": [
        "#29- Solicite a velocidade de um veículo e informe se ela está abaixo, dentro ou acima do limite de 60 km/h.\n",
        "\n",
        "velocidade = float(input(\"Digite a velocidade do veículo (km/h): \"))\n",
        "\n",
        "if velocidade < 60:\n",
        "  print(\"A velocidade está abaixo do limite.\")\n",
        "elif velocidade == 60:\n",
        "  print(\"A velocidade está dentro do limite.\")\n",
        "else:\n",
        "  print(\"A velocidade está acima do limite.\")\n"
      ],
      "metadata": {
        "id": "YFI1suG-cfOP"
      },
      "execution_count": null,
      "outputs": []
    },
    {
      "cell_type": "code",
      "source": [
        "#30- Peça um valor em reais ao usuário e verifique se ele é suficiente para comprar um produto que custa R$200,00. Exiba uma mensagem com a resposta.\n",
        "\n",
        "valor_reais = float(input(\"Digite um valor em reais: \"))\n",
        "preco_produto = 200.00\n",
        "\n",
        "if valor_reais >= preco_produto:\n",
        "  print(\"O valor é suficiente para comprar o produto.\")\n",
        "else:\n",
        "  print(\"O valor não é suficiente para comprar o produto.\")\n"
      ],
      "metadata": {
        "id": "XlRILyahcsnJ"
      },
      "execution_count": null,
      "outputs": []
    }
  ]
}