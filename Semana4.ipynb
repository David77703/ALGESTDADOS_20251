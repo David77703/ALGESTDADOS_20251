{
  "nbformat": 4,
  "nbformat_minor": 0,
  "metadata": {
    "colab": {
      "provenance": [],
      "authorship_tag": "ABX9TyNaJpVl/7mxGnUqSDNFMVdv",
      "include_colab_link": true
    },
    "kernelspec": {
      "name": "python3",
      "display_name": "Python 3"
    },
    "language_info": {
      "name": "python"
    }
  },
  "cells": [
    {
      "cell_type": "markdown",
      "metadata": {
        "id": "view-in-github",
        "colab_type": "text"
      },
      "source": [
        "<a href=\"https://colab.research.google.com/github/gnrochabr/ALGESTDADOS_20251/blob/main/Semana4.ipynb\" target=\"_parent\"><img src=\"https://colab.research.google.com/assets/colab-badge.svg\" alt=\"Open In Colab\"/></a>"
      ]
    },
    {
      "cell_type": "code",
      "execution_count": null,
      "metadata": {
        "colab": {
          "base_uri": "https://localhost:8080/"
        },
        "id": "eth-w_xZUoFI",
        "outputId": "e4c7344b-9ee4-4646-e7cb-e9dca0682bae"
      },
      "outputs": [
        {
          "output_type": "stream",
          "name": "stdout",
          "text": [
            "Digite um número: 10\n",
            "X é igual a 10\n"
          ]
        }
      ],
      "source": [
        "# 1 - Peça um número e informe se ele é maior que 10. Crie um algoritmo em Python para fazer essa verificação.\n",
        "X = int(input('Digite um número: '))\n",
        "#Se X for maior que 10\n",
        "if X > 10:\n",
        "  print('X é maior que 10')\n",
        "#se X não for maior que 10 e for igual a 10\n",
        "elif X == 10:\n",
        "  print('X é igual a 10')\n",
        "#Se X não for maior que 10 e nem igual a 10\n",
        "else:\n",
        "  print('X é menor que 10')\n",
        "\n"
      ]
    },
    {
      "cell_type": "code",
      "source": [
        "#2 - Peça um número inteiro e informe se ele é par. Crie um algoritmo em Python que verifique se o número é divisível por 2.\n",
        "numero = int(input(\"Digite um número inteiro: \"))\n",
        "#Pergunta se responder: A variável é par?\n",
        "if numero%2 == 0:\n",
        "#Se for verdade\n",
        "  print(f'O número {numero} é par')\n",
        "else:\n",
        "#Se for mentira\n",
        "  print(f'O número {numero} é ímpar')\n"
      ],
      "metadata": {
        "id": "IAozYfyTZpO2"
      },
      "execution_count": null,
      "outputs": []
    },
    {
      "cell_type": "code",
      "source": [
        "#3 - Peça um nome e informe se ele contém a letra \"a\". Crie um algoritmo em Python que faça essa verificação.\n",
        "nome = input('Digite um nome: ')\n",
        "if 'a' in nome:\n",
        "  print('Contém a letra A')\n",
        "else:\n",
        "  print('Não tem a letra A')\n"
      ],
      "metadata": {
        "colab": {
          "base_uri": "https://localhost:8080/"
        },
        "id": "Nx6rKJhzdDHy",
        "outputId": "494d98b2-c349-4282-b3c8-71e02eeb251d"
      },
      "execution_count": null,
      "outputs": [
        {
          "output_type": "stream",
          "name": "stdout",
          "text": [
            "Digite um nome: Gustavo\n",
            "Contém a letra A\n"
          ]
        }
      ]
    },
    {
      "cell_type": "code",
      "source": [
        "#4 - Peça um número e informe se ele é múltiplo de 5. Crie um algoritmo em Python que verifique se o número é divisível por 5.\n",
        "num = int(input ('Escreva um número: '))\n",
        "if num % 5 == 0:\n",
        "  print('Número múltiplo de 5')\n",
        "else:\n",
        "  print('Número não múltiplo de 5')\n",
        "\n"
      ],
      "metadata": {
        "id": "_Dn3oAgojz9a"
      },
      "execution_count": null,
      "outputs": []
    },
    {
      "cell_type": "code",
      "source": [
        "#5 - Peça a temperatura atual e informe se está quente (acima de 30°C) ou frio (30°C ou menos). Crie um algoritmo em Python para essa verificação.\n",
        "temperatura = float(input('Digite a temperatura'))\n",
        "if temperatura > 30:\n",
        "  print('O clima está quente')\n",
        "else:\n",
        "  print('O clima está frio')"
      ],
      "metadata": {
        "id": "t9mI7a_-kh-p"
      },
      "execution_count": null,
      "outputs": []
    },
    {
      "cell_type": "code",
      "source": [
        "#6 - Peça ao usuário para digitar \"S\" para continuar ou \"N\" para sair e informe a ação correspondente. Crie um algoritmo em Python que faça essa validação e exiba a mensagem correta.\n",
        "letra = input('Insira a sua opção (S/N): ')\n",
        "if letra == 'S' or 's':\n",
        "  print('Continuar')\n",
        "elif letra == 'n' or 'N':\n",
        "  print('Sair')\n",
        "else:\n",
        "  print('Opção Inválida')"
      ],
      "metadata": {
        "colab": {
          "base_uri": "https://localhost:8080/"
        },
        "id": "s-Zn6UCEDjge",
        "outputId": "55c24ff0-42af-4c3b-cc63-36a1df35da8f"
      },
      "execution_count": null,
      "outputs": [
        {
          "output_type": "stream",
          "name": "stdout",
          "text": [
            "Insira a sua opção (S/N): N\n",
            "Continuar\n"
          ]
        }
      ]
    },
    {
      "cell_type": "code",
      "source": [
        "#7 - Peça um número e informe se ele é negativo, zero ou positivo. Crie um algoritmo em Python para classificar o número.\n",
        "valor = int(input('Coloque um valor: '))\n",
        "if valor < 0:\n",
        "  print('Negativo')\n",
        "elif valor > 0:\n",
        "  print('Positivo')\n",
        "else:\n",
        "  print('Zero')"
      ],
      "metadata": {
        "colab": {
          "base_uri": "https://localhost:8080/"
        },
        "id": "hIVMa3p0DjX2",
        "outputId": "270fa1da-816e-45b3-8ea9-e9648b58b54f"
      },
      "execution_count": null,
      "outputs": [
        {
          "output_type": "stream",
          "name": "stdout",
          "text": [
            "Coloque um valor: -555\n",
            "Negativo\n"
          ]
        }
      ]
    },
    {
      "cell_type": "code",
      "source": [
        "#8 - Peça um número de 1 a 7 e informe o dia da semana correspondente. Crie um algoritmo em Python que associe o número ao dia correto.\n",
        "dia = int(input('Dia da semana de 1 a 7: '))\n",
        "if dia == 1:\n",
        "  print('Domingo')\n",
        "elif dia == 2:\n",
        "  print('Segunda')\n",
        "elif dia == 3:\n",
        "  print('Terça')\n",
        "elif dia == 4:\n",
        "  print('Quarta')\n",
        "elif dia == 5:\n",
        "  print('Quinta')\n",
        "elif dia == 6:\n",
        "  print('Sexta')\n",
        "elif dia == 7:\n",
        "  print('Sábado')\n",
        "else:\n",
        "  print('opção inválida')"
      ],
      "metadata": {
        "id": "YwAU_sBmDjP2"
      },
      "execution_count": null,
      "outputs": []
    },
    {
      "cell_type": "code",
      "source": [
        "# 9 - Peça um ano e informe se ele é bissexto. Crie um algoritmo em Python que verifique se o ano é divisível por 4 e não por 100, exceto se também for divisível por 400.\n",
        "ano = int(input('Digite o ano: '))\n",
        "if (ano%4 == 0 and ano%100!= 0) or ano%400 == 0:\n",
        "  print('Ano bissexto')\n",
        "else:\n",
        "  print('Ano não bissexto')"
      ],
      "metadata": {
        "id": "W_S6zEGiDjH2"
      },
      "execution_count": null,
      "outputs": []
    },
    {
      "cell_type": "code",
      "source": [
        "#10 - Peça a quantidade de horas trabalhadas e o valor por hora. Se trabalhou até 40 horas, calcule o salário normalmente (horas × valor por hora). Se trabalhou mais de 40 horas, as horas extras devem ter um adicional de 50% (horas extras × valor por hora × 1.5). Crie um algoritmo em Python que realize esse cálculo corretamente\n",
        "horas_trabalhadas = int(input('Horas trabalhadas: '))\n",
        "valor_hora = float(input('Valor/hora: '))\n",
        "\n",
        "#Cálculo até 40 horas de trabalho:\n",
        "salario = horas_trabalhadas * valor_hora\n",
        "\n",
        "#Se passar de 40 horas, o cálculo muda\n",
        "if horas_trabalhadas > 40:\n",
        "  hora_extra = (horas_trabalhadas - 40)# Quantidade de horas trabalhadas além das 40h\n",
        "  salario_base = (40 * valor_hora) #Valor de 40h trabalhadas\n",
        "  salario_extra = (hora_extra * 1.5 * valor_hora) #Valor de hora extra (acima das 40h)\n",
        "  salario = salario_base + salario_extra #Salário 40h + valor de hora extra\n",
        "\n",
        "print(f'Seu salário é: R$ {salario:.2f}')"
      ],
      "metadata": {
        "colab": {
          "base_uri": "https://localhost:8080/"
        },
        "id": "4HxdaUHrDi0v",
        "outputId": "fe0adbd3-42fd-4ec4-e571-5435d084b20b"
      },
      "execution_count": null,
      "outputs": [
        {
          "output_type": "stream",
          "name": "stdout",
          "text": [
            "Horas trabalhadas: 39\n",
            "Valor/hora: 10\n",
            "Seu salário é: R$ 390.00\n"
          ]
        }
      ]
    }
  ]
}