{
  "nbformat": 4,
  "nbformat_minor": 0,
  "metadata": {
    "colab": {
      "provenance": [],
      "authorship_tag": "ABX9TyPJxTnGvo70iiRO9ONzGw6U",
      "include_colab_link": true
    },
    "kernelspec": {
      "name": "python3",
      "display_name": "Python 3"
    },
    "language_info": {
      "name": "python"
    }
  },
  "cells": [
    {
      "cell_type": "markdown",
      "metadata": {
        "id": "view-in-github",
        "colab_type": "text"
      },
      "source": [
        "<a href=\"https://colab.research.google.com/github/David77703/ALGESTDADOS_20251/blob/main/Quest%C3%A3o_da_prova_7_ao_10_David.ipynb\" target=\"_parent\"><img src=\"https://colab.research.google.com/assets/colab-badge.svg\" alt=\"Open In Colab\"/></a>"
      ]
    },
    {
      "cell_type": "code",
      "execution_count": null,
      "metadata": {
        "id": "i6dn1FA31RjB"
      },
      "outputs": [],
      "source": [
        "#QUESTÃO 7 (2 PONTOS) – Escreva um código completo em Python que utilize a biblioteca DATETIME para obter e exibir o ano atual na tela.\n",
        "from datetime import datetime\n",
        "ano =datetime.now().year\n",
        "print(ano)\n",
        "\n",
        "\n"
      ]
    },
    {
      "cell_type": "code",
      "source": [
        "#QUESTÃO 8 (2 PONTOS) – Escreva um programa em Python que utilize um laço for para imprimir os números de 1 a 10. O programa deve pular os números múltiplos de 3 utilizando a estrutura condicional apropriada.\n",
        "\n",
        "contador = 0\n",
        "while True:\n",
        "    contador += 1\n",
        "    if contador == 3:\n",
        "            continue\n",
        "    if contador == 6:\n",
        "            continue\n",
        "    if contador == 9:\n",
        "            continue\n",
        "    if contador == 10:\n",
        "        break\n",
        "    print (contador)\n"
      ],
      "metadata": {
        "id": "Ym_Lt7Hv2Npm"
      },
      "execution_count": null,
      "outputs": []
    },
    {
      "cell_type": "code",
      "source": [
        "#QUESTÃO 9 (3 PONTOS) – Crie um algoritmo em Python que solicite ao usuário uma frase qualquer. O programa deve contar a quantidade de caracteres digitados, mas só deve exibir esse número se a frase tiver mais de 10 caracteres.\n",
        "\n",
        "frase = input(\"Digite uma frase: \")\n",
        "quantidade_caracteres = len(frase)\n",
        "\n",
        "if quantidade_caracteres > 10:\n",
        "  print(\"A frase possui\", quantidade_caracteres, \"caracteres.\")\n"
      ],
      "metadata": {
        "id": "SytZSxPM32H0"
      },
      "execution_count": null,
      "outputs": []
    },
    {
      "cell_type": "code",
      "source": [
        "#QUESTÃO 10 (3 PONTOS) – Considere duas variáveis chamadas POTE A e POTE B. Escreva um algoritmo em Python que solicite ao usuário a inserção de um valor para cada uma dessas variáveis. No entanto, após a inserção, os valores devem ser trocados entre si, ou seja, o valor digitado inicialmente para POTE A deve ser armazenado em POTE B, e o valor de POTE B deve ser armazenado em POTE A.\n",
        "\n",
        "auxiliar = pote_a\n",
        "pote_a = pote_b\n",
        "pote_b = auxiliar\n",
        "\n",
        "print(\"Valor de POTE A após a troca:\", pote_a)\n",
        "print(\"Valor de POTE B após a troca:\", pote_b)\n"
      ],
      "metadata": {
        "colab": {
          "base_uri": "https://localhost:8080/"
        },
        "id": "CpP95Ghk5iwb",
        "outputId": "4fbb98cc-613c-4219-9320-2e92a7e982ba"
      },
      "execution_count": 56,
      "outputs": [
        {
          "output_type": "stream",
          "name": "stdout",
          "text": [
            "Valor de POTE A após a troca: 90\n",
            "Valor de POTE B após a troca: 55\n"
          ]
        }
      ]
    }
  ]
}